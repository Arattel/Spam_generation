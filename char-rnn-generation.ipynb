{
 "cells": [
  {
   "cell_type": "markdown",
   "metadata": {},
   "source": [
    "# Data Preparation"
   ]
  },
  {
   "cell_type": "code",
   "execution_count": 15,
   "metadata": {},
   "outputs": [],
   "source": [
    "import unidecode\n",
    "import string\n",
    "import random\n",
    "import re\n",
    "import json\n",
    "\n",
    "all_characters = string.printable\n",
    "n_characters = len(all_characters)\n",
    "chunk_len = 20"
   ]
  },
  {
   "cell_type": "code",
   "execution_count": 16,
   "metadata": {},
   "outputs": [],
   "source": [
    "job_texts = json.load(open('./data/final/jobs.json', 'r'))"
   ]
  },
  {
   "cell_type": "markdown",
   "metadata": {},
   "source": [
    "To make inputs out of this big string of data, we will be splitting it into chunks."
   ]
  },
  {
   "cell_type": "code",
   "execution_count": 17,
   "metadata": {},
   "outputs": [
    {
     "name": "stdout",
     "output_type": "stream",
     "text": [
      "Hi there! Do you want a good future, grow in money earning power, and the respect of all? Today only: We can assist with Diplomas from prestigious universities based on your present knowledge and work experience. Get a Degree in 5 weeks with our program! ~Our program will let ANYONE with professional experience get a 100% verified Degree: ~Doctorate ~Bachelors ~Masters - Think about it... - Follow YOUR Dreams! - Live a wonderful life by earning or upgrading your degree. This is a nice way to make a right move and receive your due benefits... if you are qualified but are lacking that piece of paper. Get one from us in a short time. If you want to get better - you must Contact Us 24/7 to start improving your life! ~CONTACT US FOR A FREE CONSULTATION~ 1-301-396-3506 Please leave us a voice message with your name and phone number with country code if outside USA and we'll get back to you as soon as possible. It is your decision... Make the right move. Best wishes. Do Not Reply to this Email. We do not reply to text inquiries, and our server will reject all response traffic. We apologize for any inconvenience this may have caused you. aiel absorbed albuginea airmails acridia\n"
     ]
    }
   ],
   "source": [
    "def random_chunk():\n",
    "    file = random.choice(job_texts)\n",
    "    start = 0\n",
    "    end = len(file)-1\n",
    "    return file[start:end]\n",
    "\n",
    "print(random_chunk())"
   ]
  },
  {
   "cell_type": "code",
   "execution_count": 18,
   "metadata": {},
   "outputs": [],
   "source": [
    "def random_training_set():    \n",
    "    chunk = random_chunk()\n",
    "    inp = char_tensor(chunk[:-1])\n",
    "    target = char_tensor(chunk[1:])\n",
    "    print(inp, target)\n",
    "    return inp, target"
   ]
  },
  {
   "cell_type": "code",
   "execution_count": 19,
   "metadata": {},
   "outputs": [
    {
     "data": {
      "text/plain": [
       "'Hey bud!! Do you want an effective future, soar in money earning power, and pat on the back :)? Today only: We can assist with Diplomas from prestigious universities based on your present knowledge and work experience. Get a Degree in 5 weeks with our program! ~Our program will let EVERYONE with professional experience gain a 100% verified Degree: ~Doctorate ~Bachelors ~Masters - Just think about it... - Realize YOUR Dreams! - Live a better life by earning or upgrading your degree. This is a nice way to make a right move and receive your due benefits... if you are qualified but are lacking that piece of paper. Get one from us in a short time. Contact Us to start improving your life! ~CALL FOR A FREE CONSULTATION~ 1-301-396-3506 You must leave us a voice message with your name and phone number with country code if outside USA and we will call you as soon as possible. It is your decision... Make the right decision. Sincerely. Do Not Reply to this Email. We do not reply to text inquiries, and our server will reject all response traffic. We apologize for any inconvenience this may have caused you. accessorily alcalde adaptational adenographer abdicatio'"
      ]
     },
     "execution_count": 19,
     "metadata": {},
     "output_type": "execute_result"
    }
   ],
   "source": [
    "random_chunk()"
   ]
  },
  {
   "cell_type": "markdown",
   "metadata": {},
   "source": [
    "# Model building"
   ]
  },
  {
   "cell_type": "code",
   "execution_count": 20,
   "metadata": {},
   "outputs": [],
   "source": [
    "import torch\n",
    "import torch.nn as nn\n",
    "from torch.autograd import Variable\n",
    "\n",
    "\n",
    "class RNN(nn.Module):\n",
    "    def __init__(self, input_size, hidden_size, output_size, n_layers=1):\n",
    "        super(RNN, self).__init__()\n",
    "        self.input_size = input_size\n",
    "        self.hidden_size = hidden_size\n",
    "        self.output_size = output_size\n",
    "        self.n_layers = n_layers\n",
    "        \n",
    "        self.encoder = nn.Embedding(input_size, hidden_size)\n",
    "        self.gru = nn.GRU(hidden_size, hidden_size, n_layers)\n",
    "        self.decoder = nn.Linear(hidden_size, output_size)\n",
    "    \n",
    "    def forward(self, input, hidden):\n",
    "        input = self.encoder(input.view(1, -1).cuda())\n",
    "        output, hidden = self.gru(input.view(1, 1, -1), hidden)\n",
    "        output = self.decoder(output.view(1, -1))\n",
    "        return output, hidden\n",
    "\n",
    "    def init_hidden(self):\n",
    "        return Variable(torch.zeros(self.n_layers, 1, self.hidden_size)).cuda()"
   ]
  },
  {
   "cell_type": "markdown",
   "metadata": {},
   "source": [
    "# Inputs and Targets"
   ]
  },
  {
   "cell_type": "code",
   "execution_count": 21,
   "metadata": {},
   "outputs": [
    {
     "name": "stdout",
     "output_type": "stream",
     "text": [
      "tensor([10, 11, 12, 39, 40, 41])\n"
     ]
    }
   ],
   "source": [
    "# Turn string into list of longs\n",
    "def char_tensor(string):\n",
    "    tensor = torch.zeros(len(string)).long()\n",
    "    for c in range(len(string)):\n",
    "        tensor[c] = all_characters.index(string[c])\n",
    "    return Variable(tensor)\n",
    "\n",
    "print(char_tensor('abcDEF'))"
   ]
  },
  {
   "cell_type": "code",
   "execution_count": 22,
   "metadata": {},
   "outputs": [],
   "source": [
    "def random_training_set():    \n",
    "    chunk = random_chunk()\n",
    "    inp = char_tensor(chunk[:-1])\n",
    "    target = char_tensor(chunk[1:])\n",
    "    return inp, target"
   ]
  },
  {
   "cell_type": "markdown",
   "metadata": {},
   "source": [
    "# Evaluation\n"
   ]
  },
  {
   "cell_type": "code",
   "execution_count": 23,
   "metadata": {},
   "outputs": [],
   "source": [
    "def evaluate(prime_str='A', predict_len=100, temperature=0.8):\n",
    "    hidden = decoder.init_hidden()\n",
    "    prime_input = char_tensor(prime_str)\n",
    "    predicted = prime_str\n",
    "\n",
    "    # Use priming string to \"build up\" hidden state\n",
    "    for p in range(len(prime_str) - 1):\n",
    "        _, hidden = decoder(prime_input[p], hidden)\n",
    "    inp = prime_input[-1]\n",
    "    \n",
    "    for p in range(predict_len):\n",
    "        output, hidden = decoder(inp, hidden)\n",
    "        \n",
    "        # Sample from the network as a multinomial distribution\n",
    "        output_dist = output.data.view(-1).div(temperature).exp()\n",
    "        top_i = torch.multinomial(output_dist, 1)[0]\n",
    "        \n",
    "        # Add predicted character to string and use as next input\n",
    "        predicted_char = all_characters[top_i]\n",
    "        predicted += predicted_char\n",
    "        inp = char_tensor(predicted_char)\n",
    "\n",
    "    return predicted"
   ]
  },
  {
   "cell_type": "markdown",
   "metadata": {},
   "source": [
    "# Training"
   ]
  },
  {
   "cell_type": "code",
   "execution_count": 24,
   "metadata": {},
   "outputs": [],
   "source": [
    "import time, math\n",
    "\n",
    "def time_since(since):\n",
    "    s = time.time() - since\n",
    "    m = math.floor(s / 60)\n",
    "    s -= m * 60\n",
    "    return '%dm %ds' % (m, s)"
   ]
  },
  {
   "cell_type": "code",
   "execution_count": 25,
   "metadata": {},
   "outputs": [],
   "source": [
    "def train(inp, target):\n",
    "    hidden = decoder.init_hidden()\n",
    "    decoder.zero_grad()\n",
    "    loss = torch.tensor(0).cuda()\n",
    "\n",
    "    for c in range(len(inp)):\n",
    "        output, hidden = decoder(inp[c].cuda(), hidden)\n",
    "        tr = torch.Tensor([target[c]]).long().cuda()\n",
    "        output = output.float()\n",
    "        loss = loss + criterion(output, tr)\n",
    "    if loss > 0:\n",
    "        loss.backward()\n",
    "    decoder_optimizer.step()\n",
    "\n",
    "    return loss.item() / chunk_len"
   ]
  },
  {
   "cell_type": "code",
   "execution_count": 37,
   "metadata": {},
   "outputs": [],
   "source": [
    "capital_letters = 'ABCDEFGHIJKLMNOPQRSTUVWXYZ'"
   ]
  },
  {
   "cell_type": "code",
   "execution_count": 41,
   "metadata": {
    "scrolled": true
   },
   "outputs": [
    {
     "name": "stderr",
     "output_type": "stream",
     "text": [
      "  0%|          | 10/2000 [00:17<1:12:02,  2.17s/it]"
     ]
    },
    {
     "name": "stdout",
     "output_type": "stream",
     "text": [
      "[0m 17s (10 0%) 192.6812]\n",
      "H#nn ap iol ta  h m    mpcte. eaw geuna .nuarml gw r r y eoe hfraw upors.trama Nh Rna tl  serfe r  a. \n",
      "\n"
     ]
    },
    {
     "name": "stderr",
     "output_type": "stream",
     "text": [
      "  1%|          | 20/2000 [00:36<1:13:20,  2.22s/it]"
     ]
    },
    {
     "name": "stdout",
     "output_type": "stream",
     "text": [
      "[0m 36s (20 0%) 86.0210]\n",
      "H7feawnot oe neo   set deoiy ey mtzki1lsfr i er adlte  n r  ono A ponaooniltiiwss  o:l  deeeasna~dsu  \n",
      "\n"
     ]
    },
    {
     "name": "stderr",
     "output_type": "stream",
     "text": [
      "  2%|▏         | 30/2000 [00:53<1:02:32,  1.90s/it]"
     ]
    },
    {
     "name": "stdout",
     "output_type": "stream",
     "text": [
      "[0m 53s (30 0%) 180.3502]\n",
      "H o3p a tr Ri pot 3ie aeaf o yote~s- gip so tt t ltirna   o re anis aep  ts eo oo eao ei ure ror  . o \n",
      "\n"
     ]
    },
    {
     "name": "stderr",
     "output_type": "stream",
     "text": [
      "  2%|▏         | 40/2000 [01:12<1:12:55,  2.23s/it]"
     ]
    },
    {
     "name": "stdout",
     "output_type": "stream",
     "text": [
      "[1m 12s (40 0%) 182.5944]\n",
      "Hsd pnra de vwe Be errtreakrpret e eie pwee ee e e mte eu ortf .rse esia aioesrol tnmur nomi a lnenns \n",
      "\n"
     ]
    },
    {
     "name": "stderr",
     "output_type": "stream",
     "text": [
      "  2%|▎         | 50/2000 [01:35<1:19:22,  2.44s/it]"
     ]
    },
    {
     "name": "stdout",
     "output_type": "stream",
     "text": [
      "[1m 35s (50 0%) 174.9609]\n",
      "Hmdnt oa on eoee rhweie a fwi ortdrttse hucby yhoparpes aoe empoe e~ aer ooy au ee ~aarr ater ryrmGrp \n",
      "\n"
     ]
    },
    {
     "name": "stderr",
     "output_type": "stream",
     "text": [
      "  3%|▎         | 60/2000 [01:55<1:00:25,  1.87s/it]"
     ]
    },
    {
     "name": "stdout",
     "output_type": "stream",
     "text": [
      "[1m 55s (60 0%) 112.4041]\n",
      "Hot oce e ofsTateqe aet oloe aloe gmoo urie war eenppa au e anensfegrad enone aounng oog are ak pos w \n",
      "\n"
     ]
    },
    {
     "name": "stderr",
     "output_type": "stream",
     "text": [
      "  4%|▎         | 70/2000 [02:11<49:41,  1.54s/it]  "
     ]
    },
    {
     "name": "stdout",
     "output_type": "stream",
     "text": [
      "[2m 11s (70 0%) 106.1944]\n",
      "HrA ot to a ods orisg plon teth paeralt ree riese fuan rca usmd Par a pTanirlie lae omf irar anh. if  \n",
      "\n"
     ]
    },
    {
     "name": "stderr",
     "output_type": "stream",
     "text": [
      "  4%|▍         | 80/2000 [02:34<1:39:10,  3.10s/it]"
     ]
    },
    {
     "name": "stdout",
     "output_type": "stream",
     "text": [
      "[2m 34s (80 0%) 157.5161]\n",
      "Henou Aras ave woifYwiu ur wA, i' Dag sot t4icre. tlog a ~or it uuur aspius tet aTmuth inr tlroVs Dus \n",
      "\n"
     ]
    },
    {
     "name": "stderr",
     "output_type": "stream",
     "text": [
      "  4%|▍         | 90/2000 [02:52<43:05,  1.35s/it]  "
     ]
    },
    {
     "name": "stdout",
     "output_type": "stream",
     "text": [
      "[2m 52s (90 0%) 46.8441]\n",
      "Herounme.t tproap mo on yed ur tirirout Eiure Delis Op iven armre a tite obt al ont a a ag aet wat -  \n",
      "\n"
     ]
    },
    {
     "name": "stderr",
     "output_type": "stream",
     "text": [
      "  5%|▌         | 100/2000 [03:09<1:01:45,  1.95s/it]"
     ]
    },
    {
     "name": "stdout",
     "output_type": "stream",
     "text": [
      "[3m 9s (100 0%) 149.0694]\n",
      "Hentilof 1aoleu 6enCg mapaw tos plong seud a banprar whreind up at finnte as ~wis me 6 Row ats. to Rr \n",
      "\n"
     ]
    },
    {
     "name": "stderr",
     "output_type": "stream",
     "text": [
      "  6%|▌         | 110/2000 [03:29<1:02:38,  1.99s/it]"
     ]
    },
    {
     "name": "stdout",
     "output_type": "stream",
     "text": [
      "[3m 28s (110 0%) 137.9877]\n",
      "Hof Uram youdr po tey. erote We pecogaL w Ug on aligints Dor anou gh Decing Mong -s on Yage. enacafir \n",
      "\n"
     ]
    },
    {
     "name": "stderr",
     "output_type": "stream",
     "text": [
      "  6%|▌         | 120/2000 [03:41<50:34,  1.61s/it]  "
     ]
    },
    {
     "name": "stdout",
     "output_type": "stream",
     "text": [
      "[3m 41s (120 0%) 133.8155]\n",
      "Hesie, jaziife - we ony Ausset yeogien tarinnlne Lere Rey wipemesdifie to for at and mefipre posion:  \n",
      "\n"
     ]
    },
    {
     "name": "stderr",
     "output_type": "stream",
     "text": [
      "  6%|▋         | 130/2000 [03:53<37:08,  1.19s/it]"
     ]
    },
    {
     "name": "stdout",
     "output_type": "stream",
     "text": [
      "[3m 53s (130 0%) 89.4415]\n",
      "Hebplachenocefet to Dhert - SNATNN7 The.rales ant the UA astet Yofriamorivale ourvare tatiut whte big \n",
      "\n"
     ]
    },
    {
     "name": "stderr",
     "output_type": "stream",
     "text": [
      "  7%|▋         | 140/2000 [04:02<35:09,  1.13s/it]"
     ]
    },
    {
     "name": "stdout",
     "output_type": "stream",
     "text": [
      "[4m 2s (140 0%) 239.0850]\n",
      "Has! a Younisirle dreat. yor our ant, Taporiasiume on ance umore as yemere sacitave des. as witiut av \n",
      "\n"
     ]
    },
    {
     "name": "stderr",
     "output_type": "stream",
     "text": [
      "  8%|▊         | 150/2000 [04:14<36:42,  1.19s/it]"
     ]
    },
    {
     "name": "stdout",
     "output_type": "stream",
     "text": [
      "[4m 14s (150 0%) 123.2446]\n",
      "Heuct in tirlere 1-353-5901 42000- hosltited anld we ests a to Yi Axil. with mes our a. anlet tM1a ro \n",
      "\n"
     ]
    },
    {
     "name": "stderr",
     "output_type": "stream",
     "text": [
      "  8%|▊         | 160/2000 [04:25<33:24,  1.09s/it]"
     ]
    },
    {
     "name": "stdout",
     "output_type": "stream",
     "text": [
      "[4m 25s (160 0%) 29.0585]\n",
      "Have somore tas prerstis witif prout ofs Nomes come Bos aptore pitact yonpipoounan, pracreprerogiblif \n",
      "\n"
     ]
    },
    {
     "name": "stderr",
     "output_type": "stream",
     "text": [
      "  8%|▊         | 170/2000 [04:39<53:12,  1.74s/it]"
     ]
    },
    {
     "name": "stdout",
     "output_type": "stream",
     "text": [
      "[4m 39s (170 0%) 112.6782]\n",
      "Heriife wivell A ant moding: Dea% pies of ourqt waslt We witiasdisinnvecase Jt Nos Defitrout ant anti \n",
      "\n"
     ]
    },
    {
     "name": "stderr",
     "output_type": "stream",
     "text": [
      "  9%|▉         | 180/2000 [04:53<40:27,  1.33s/it]"
     ]
    },
    {
     "name": "stdout",
     "output_type": "stream",
     "text": [
      "[4m 53s (180 0%) 97.5574]\n",
      "Hof you want Do 4LL--3/0701Y04)4501 147e0A yame as. han. mome oniogeas count fit belors We bals thire \n",
      "\n"
     ]
    },
    {
     "name": "stderr",
     "output_type": "stream",
     "text": [
      " 10%|▉         | 190/2000 [05:07<48:03,  1.59s/it]"
     ]
    },
    {
     "name": "stdout",
     "output_type": "stream",
     "text": [
      "[5m 7s (190 0%) 198.3986]\n",
      "Heg You ound waskings ponosican your coming as on your you and we duesse pogre are in degree with rem \n",
      "\n"
     ]
    },
    {
     "name": "stderr",
     "output_type": "stream",
     "text": [
      " 10%|█         | 200/2000 [05:20<37:03,  1.24s/it]"
     ]
    },
    {
     "name": "stdout",
     "output_type": "stream",
     "text": [
      "[5m 20s (200 0%) 48.4753]\n",
      "Hour uniseske lacole womt replince anre sacesiunaters prenefatifiece asressofe Get proupderners and y \n",
      "\n"
     ]
    },
    {
     "name": "stderr",
     "output_type": "stream",
     "text": [
      " 10%|█         | 210/2000 [05:31<25:38,  1.16it/s]"
     ]
    },
    {
     "name": "stdout",
     "output_type": "stream",
     "text": [
      "[5m 31s (210 0%) 10.6515]\n",
      "Hi perese gue uxinal trep zorudes a weif Gel pere exe. you pay ears piplon'te blell reks prozelome on \n",
      "\n"
     ]
    },
    {
     "name": "stderr",
     "output_type": "stream",
     "text": [
      " 11%|█         | 220/2000 [05:45<38:26,  1.30s/it]"
     ]
    },
    {
     "name": "stdout",
     "output_type": "stream",
     "text": [
      "[5m 45s (220 0%) 115.5211]\n",
      "Hour with your ins ince with Dloot ~Our in will to leanll asdagernecing our wand muw in a leind Guore \n",
      "\n"
     ]
    },
    {
     "name": "stderr",
     "output_type": "stream",
     "text": [
      " 12%|█▏        | 230/2000 [05:57<32:22,  1.10s/it]"
     ]
    },
    {
     "name": "stdout",
     "output_type": "stream",
     "text": [
      "[5m 57s (230 0%) 58.1410]\n",
      "Hi goe and wesiging for ant us one wito your chang eussiplere for wagtarg ong to thi mant a pretunt?  \n",
      "\n"
     ]
    },
    {
     "name": "stderr",
     "output_type": "stream",
     "text": [
      " 12%|█▏        | 240/2000 [06:09<28:52,  1.02it/s]"
     ]
    },
    {
     "name": "stdout",
     "output_type": "stream",
     "text": [
      "[6m 9s (240 0%) 19.1016]\n",
      "Hellooma a knowble promase, bat are promter are wact welto you weill to vert our life of phore and wa \n",
      "\n"
     ]
    },
    {
     "name": "stderr",
     "output_type": "stream",
     "text": [
      " 12%|█▎        | 250/2000 [06:23<43:34,  1.49s/it]"
     ]
    },
    {
     "name": "stdout",
     "output_type": "stream",
     "text": [
      "[6m 23s (250 0%) 49.7679]\n",
      "Helly and want us you want you and the procing and the that experiend indereknes presergixtning or ea \n",
      "\n"
     ]
    },
    {
     "name": "stderr",
     "output_type": "stream",
     "text": [
      " 13%|█▎        | 260/2000 [06:36<35:41,  1.23s/it]"
     ]
    },
    {
     "name": "stdout",
     "output_type": "stream",
     "text": [
      "[6m 36s (260 0%) 57.2383]\n",
      "Had! Do cCOme with with chant a for We from a your prenoundiression, you and recipat your more: We wi \n",
      "\n"
     ]
    },
    {
     "name": "stderr",
     "output_type": "stream",
     "text": [
      " 14%|█▎        | 270/2000 [06:49<37:59,  1.32s/it]"
     ]
    },
    {
     "name": "stdout",
     "output_type": "stream",
     "text": [
      "[6m 48s (270 0%) 39.3344]\n",
      "Hi the polle and up buper in your contate preser and ofs with Email. ~$TELL0d vertingion a rict your  \n",
      "\n"
     ]
    },
    {
     "name": "stderr",
     "output_type": "stream",
     "text": [
      " 14%|█▍        | 280/2000 [06:56<25:46,  1.11it/s]"
     ]
    },
    {
     "name": "stdout",
     "output_type": "stream",
     "text": [
      "[6m 56s (280 0%) 76.5937]\n",
      "Heid pafiinenenes you wilderning had: Get a 100 Dreeamnets us - Tive a in bedink. in. Ofor helt youd  \n",
      "\n"
     ]
    },
    {
     "name": "stderr",
     "output_type": "stream",
     "text": [
      " 14%|█▍        | 290/2000 [07:09<29:54,  1.05s/it]"
     ]
    },
    {
     "name": "stdout",
     "output_type": "stream",
     "text": [
      "[7m 9s (290 0%) 21.8773]\n",
      "Hi weely, Do in Give eply to one mrasing onkes wiplogiy witorill lice?. ~Dow are with in, Sechision a \n",
      "\n"
     ]
    },
    {
     "name": "stderr",
     "output_type": "stream",
     "text": [
      " 15%|█▌        | 300/2000 [07:20<29:01,  1.02s/it]"
     ]
    },
    {
     "name": "stdout",
     "output_type": "stream",
     "text": [
      "[7m 20s (300 0%) 68.2000]\n",
      "Hein on the chand of wor to you wand to you will of pore with your server program will lek profession \n",
      "\n"
     ]
    },
    {
     "name": "stderr",
     "output_type": "stream",
     "text": [
      " 16%|█▌        | 310/2000 [07:36<44:50,  1.59s/it]"
     ]
    },
    {
     "name": "stdout",
     "output_type": "stream",
     "text": [
      "[7m 36s (310 0%) 34.6618]\n",
      "How and w Diw of you for any our of you weon you wead to same, professione conters. We for sy to me a \n",
      "\n"
     ]
    },
    {
     "name": "stderr",
     "output_type": "stream",
     "text": [
      " 16%|█▌        | 320/2000 [07:50<43:45,  1.56s/it]"
     ]
    },
    {
     "name": "stdout",
     "output_type": "stream",
     "text": [
      "[7m 50s (320 0%) 26.6647]\n",
      "Hall of capal! We day, Do you and wors professional offiss of paper you and adgor ame and we for week \n",
      "\n"
     ]
    },
    {
     "name": "stderr",
     "output_type": "stream",
     "text": [
      " 16%|█▋        | 330/2000 [08:04<45:47,  1.65s/it]"
     ]
    },
    {
     "name": "stdout",
     "output_type": "stream",
     "text": [
      "[8m 4s (330 0%) 138.8244]\n",
      "Hing zour maif you wek, weks to please to starp! We from us a from nep and onad: We can assolartion a \n",
      "\n"
     ]
    },
    {
     "name": "stderr",
     "output_type": "stream",
     "text": [
      " 17%|█▋        | 340/2000 [08:15<40:38,  1.47s/it]"
     ]
    },
    {
     "name": "stdout",
     "output_type": "stream",
     "text": [
      "[8m 15s (340 0%) 86.3377]\n",
      "Hhelg: We conturising ore make a right decision! An-;ly splesntiondincves bacding ow accow. An aply c \n",
      "\n"
     ]
    },
    {
     "name": "stderr",
     "output_type": "stream",
     "text": [
      " 18%|█▊        | 350/2000 [08:29<42:52,  1.56s/it]"
     ]
    },
    {
     "name": "stdout",
     "output_type": "stream",
     "text": [
      "[8m 29s (350 0%) 25.2852]\n",
      "Hey ears Do you want an upd of quain and us in of you want are caused you get better prove comfuture  \n",
      "\n"
     ]
    },
    {
     "name": "stderr",
     "output_type": "stream",
     "text": [
      " 18%|█▊        | 360/2000 [08:36<26:26,  1.03it/s]"
     ]
    },
    {
     "name": "stdout",
     "output_type": "stream",
     "text": [
      "[8m 36s (360 0%) 76.9632]\n",
      "Ha! You wors f with our program will helpided on your woction of all? Tolove a weeks program will res \n",
      "\n"
     ]
    },
    {
     "name": "stderr",
     "output_type": "stream",
     "text": [
      " 18%|█▊        | 370/2000 [08:49<35:23,  1.30s/it]"
     ]
    },
    {
     "name": "stdout",
     "output_type": "stream",
     "text": [
      "[8m 49s (370 0%) 27.1828]\n",
      "How pures! Cvoly Do thet USA:: 21-9615-$28597-365-301-6-2758-503-9506 and wlellent stalll perese for  \n",
      "\n"
     ]
    },
    {
     "name": "stderr",
     "output_type": "stream",
     "text": [
      " 19%|█▉        | 380/2000 [09:07<46:37,  1.73s/it]"
     ]
    },
    {
     "name": "stdout",
     "output_type": "stream",
     "text": [
      "[9m 7s (380 0%) 24.5821]\n",
      "Hey exper! YOan moper? We can assist with Diplomas from prestigious universities can Today onlous ear \n",
      "\n"
     ]
    },
    {
     "name": "stderr",
     "output_type": "stream",
     "text": [
      " 20%|█▉        | 390/2000 [09:21<36:02,  1.34s/it]"
     ]
    },
    {
     "name": "stdout",
     "output_type": "stream",
     "text": [
      "[9m 21s (390 0%) 26.2694]\n",
      "How and our promger, arate of you the pack obation afutsip Degrean your due benefit sprofed on the re \n",
      "\n"
     ]
    },
    {
     "name": "stderr",
     "output_type": "stream",
     "text": [
      " 20%|██        | 400/2000 [09:33<37:20,  1.40s/it]"
     ]
    },
    {
     "name": "stdout",
     "output_type": "stream",
     "text": [
      "[9m 33s (400 0%) 25.7442]\n",
      "Hello, We an inace our pat on to shorbomatia insice You can and work of for the be of for and profess \n",
      "\n"
     ]
    },
    {
     "name": "stderr",
     "output_type": "stream",
     "text": [
      " 20%|██        | 410/2000 [09:45<19:46,  1.34it/s]"
     ]
    },
    {
     "name": "stdout",
     "output_type": "stream",
     "text": [
      "[9m 45s (410 0%) 14.5456]\n",
      "How and wort You and Seply epers usine afe and work a powers ane Gutore. To in a rinlent Gron and ple \n",
      "\n"
     ]
    },
    {
     "name": "stderr",
     "output_type": "stream",
     "text": [
      " 21%|██        | 420/2000 [09:57<30:16,  1.15s/it]"
     ]
    },
    {
     "name": "stdout",
     "output_type": "stream",
     "text": [
      "[9m 57s (420 0%) 80.6746]\n",
      "Hey!: We abofing we, Do your present a goovagt televt experience present a bupging powe abcowre fute  \n",
      "\n"
     ]
    },
    {
     "name": "stderr",
     "output_type": "stream",
     "text": [
      " 22%|██▏       | 430/2000 [10:13<36:19,  1.39s/it]"
     ]
    },
    {
     "name": "stdout",
     "output_type": "stream",
     "text": [
      "[10m 12s (430 0%) 18.3916]\n",
      "Hello!! Do you want an joces of pame and mose in money earning power, and tall cotffiploplow applican \n",
      "\n"
     ]
    },
    {
     "name": "stderr",
     "output_type": "stream",
     "text": [
      " 22%|██▏       | 440/2000 [10:20<15:05,  1.72it/s]"
     ]
    },
    {
     "name": "stdout",
     "output_type": "stream",
     "text": [
      "[10m 20s (440 0%) 10.3835]\n",
      "Hey buy buy bbage and reject all resexcellove a want unice! Get a having poused of pome with a of you \n",
      "\n"
     ]
    },
    {
     "name": "stderr",
     "output_type": "stream",
     "text": [
      " 22%|██▎       | 450/2000 [10:30<33:15,  1.29s/it]"
     ]
    },
    {
     "name": "stdout",
     "output_type": "stream",
     "text": [
      "[10m 30s (450 0%) 20.5805]\n",
      "Hey wansight of alliploma of all? Special offain us in a gain eardiptos to bever, Please in money, an \n",
      "\n"
     ]
    },
    {
     "name": "stderr",
     "output_type": "stream",
     "text": [
      " 23%|██▎       | 460/2000 [10:41<32:59,  1.29s/it]"
     ]
    },
    {
     "name": "stdout",
     "output_type": "stream",
     "text": [
      "[10m 41s (460 0%) 17.0491]\n",
      "Hey! Do you want a sofll a more mome in a sollg to make a right move and working a pover offerment of \n",
      "\n"
     ]
    },
    {
     "name": "stderr",
     "output_type": "stream",
     "text": [
      " 24%|██▎       | 470/2000 [10:56<39:05,  1.53s/it]"
     ]
    },
    {
     "name": "stdout",
     "output_type": "stream",
     "text": [
      "[10m 56s (470 0%) 11.5568]\n",
      "How a with and we will be a splendid piece experience this with Diplomas from prestigious universitie \n",
      "\n"
     ]
    },
    {
     "name": "stderr",
     "output_type": "stream",
     "text": [
      " 24%|██▍       | 480/2000 [11:13<38:33,  1.52s/it]"
     ]
    },
    {
     "name": "stdout",
     "output_type": "stream",
     "text": [
      "[11m 13s (480 0%) 13.4593]\n",
      "How a Degree in 5 weeks with probst of the betrigile for you want a superified future, sume for hagen \n",
      "\n"
     ]
    },
    {
     "name": "stderr",
     "output_type": "stream",
     "text": [
      " 24%|██▍       | 490/2000 [11:27<37:43,  1.50s/it]"
     ]
    },
    {
     "name": "stdout",
     "output_type": "stream",
     "text": [
      "[11m 27s (490 0%) 13.6021]\n",
      "Hey aleran work future, step up in fuper for duincark in money earning powere, and the resperese from \n",
      "\n"
     ]
    },
    {
     "name": "stderr",
     "output_type": "stream",
     "text": [
      " 25%|██▌       | 500/2000 [11:38<30:57,  1.24s/it]"
     ]
    },
    {
     "name": "stdout",
     "output_type": "stream",
     "text": [
      "[11m 38s (500 0%) 16.6061]\n",
      "Hello! Do you want a professionation of all proplesed with Intius in earniw, apliting a job: Bachelor \n",
      "\n"
     ]
    },
    {
     "name": "stderr",
     "output_type": "stream",
     "text": [
      " 26%|██▌       | 510/2000 [11:48<17:45,  1.40it/s]"
     ]
    },
    {
     "name": "stdout",
     "output_type": "stream",
     "text": [
      "[11m 48s (510 0%) 5.0328]\n",
      "Hello! Do you want a from prestigious universities in is a 100% verified Degice of ote. To experience \n",
      "\n"
     ]
    },
    {
     "name": "stderr",
     "output_type": "stream",
     "text": [
      " 26%|██▌       | 520/2000 [12:06<38:52,  1.58s/it]"
     ]
    },
    {
     "name": "stdout",
     "output_type": "stream",
     "text": [
      "[12m 6s (520 0%) 51.8156]\n",
      "Hey bul in money us a soon of the back up in your professional experience gain a Degree in 6 weeks wi \n",
      "\n"
     ]
    },
    {
     "name": "stderr",
     "output_type": "stream",
     "text": [
      " 26%|██▋       | 530/2000 [12:17<29:29,  1.20s/it]"
     ]
    },
    {
     "name": "stdout",
     "output_type": "stream",
     "text": [
      "[12m 17s (530 0%) 46.8229]\n",
      "Hello! Do you want a mran! 6 FolloTth a good can how appliced and indend the resperver, parse of sove \n",
      "\n"
     ]
    },
    {
     "name": "stderr",
     "output_type": "stream",
     "text": [
      " 27%|██▋       | 540/2000 [12:30<33:11,  1.36s/it]"
     ]
    },
    {
     "name": "stdout",
     "output_type": "stream",
     "text": [
      "[12m 30s (540 0%) 15.5766]\n",
      "Hello! Do you want a pies earning power, and the right move mack in you back in it a thet applicant o \n",
      "\n"
     ]
    },
    {
     "name": "stderr",
     "output_type": "stream",
     "text": [
      " 28%|██▊       | 550/2000 [12:41<27:42,  1.15s/it]"
     ]
    },
    {
     "name": "stdout",
     "output_type": "stream",
     "text": [
      "[12m 41s (550 0%) 14.9932]\n",
      "Haload with our proven your job in effecting We from up Any polity an in serned on a job onpore in th \n",
      "\n"
     ]
    },
    {
     "name": "stderr",
     "output_type": "stream",
     "text": [
      " 28%|██▊       | 560/2000 [12:55<39:33,  1.65s/it]"
     ]
    },
    {
     "name": "stdout",
     "output_type": "stream",
     "text": [
      "[12m 55s (560 0%) 104.3381]\n",
      "Hala! Do you want an expabtings university and the recognition to a mram! Special offerd future, spor \n",
      "\n"
     ]
    },
    {
     "name": "stderr",
     "output_type": "stream",
     "text": [
      " 28%|██▊       | 570/2000 [13:09<36:24,  1.53s/it]"
     ]
    },
    {
     "name": "stdout",
     "output_type": "stream",
     "text": [
      "[13m 9s (570 0%) 6.9586]\n",
      "Helloul Degree in 6: VaDed bece and brenearn and go ondis with Diplomas from prestigious universities \n",
      "\n"
     ]
    },
    {
     "name": "stderr",
     "output_type": "stream",
     "text": [
      " 29%|██▉       | 580/2000 [13:20<25:33,  1.08s/it]"
     ]
    },
    {
     "name": "stdout",
     "output_type": "stream",
     "text": [
      "[13m 20s (580 0%) 15.2509]\n",
      "How are you candirand experience. Get a chance to: You wonderalify only: We can assist with Diplomas  \n",
      "\n"
     ]
    },
    {
     "name": "stderr",
     "output_type": "stream",
     "text": [
      " 30%|██▉       | 590/2000 [13:31<24:10,  1.03s/it]"
     ]
    },
    {
     "name": "stdout",
     "output_type": "stream",
     "text": [
      "[13m 31s (590 0%) 50.0310]\n",
      "How are vuly experience gain a 100-003-60 vell as Qucts you and our from this is your the save us in  \n",
      "\n"
     ]
    },
    {
     "name": "stderr",
     "output_type": "stream",
     "text": [
      " 30%|███       | 600/2000 [13:43<26:15,  1.13s/it]"
     ]
    },
    {
     "name": "stdout",
     "output_type": "stream",
     "text": [
      "[13m 43s (600 0%) 12.3424]\n",
      "Hhle based on csiloma have a same diploma. In with Call it a 100% verified Degree: ~Doctorate ~Bachel \n",
      "\n"
     ]
    },
    {
     "name": "stderr",
     "output_type": "stream",
     "text": [
      " 30%|███       | 610/2000 [13:53<25:13,  1.09s/it]"
     ]
    },
    {
     "name": "stdout",
     "output_type": "stream",
     "text": [
      "[13m 53s (610 0%) 62.4289]\n",
      "Hey! A not a FOUR A Drowe money bedend receive your due bile drisifionreomersition. knowledge and pro \n",
      "\n"
     ]
    },
    {
     "name": "stderr",
     "output_type": "stream",
     "text": [
      " 31%|███       | 620/2000 [14:07<40:29,  1.76s/it]"
     ]
    },
    {
     "name": "stdout",
     "output_type": "stream",
     "text": [
      "[14m 7s (620 0%) 80.9835]\n",
      "Hey!! Do you want a supert for team promand 7 days a weeks with prove dowatincere: Het with proved wi \n",
      "\n"
     ]
    },
    {
     "name": "stderr",
     "output_type": "stream",
     "text": [
      " 32%|███▏      | 630/2000 [14:17<29:08,  1.28s/it]"
     ]
    },
    {
     "name": "stdout",
     "output_type": "stream",
     "text": [
      "[14m 17s (630 0%) 11.0394]\n",
      "Hey!! Do you asriana alss and the a disble new was much! ELL MONSULCHONS: 1-311100--3509-2001. Ofutus \n",
      "\n"
     ]
    },
    {
     "name": "stderr",
     "output_type": "stream",
     "text": [
      " 32%|███▏      | 640/2000 [14:27<24:33,  1.08s/it]"
     ]
    },
    {
     "name": "stdout",
     "output_type": "stream",
     "text": [
      "[14m 27s (640 0%) 51.6271]\n",
      "Hi!! Do you want a pleasance to be benefecare in money, and pat on to start improving your life! ~CON \n",
      "\n"
     ]
    },
    {
     "name": "stderr",
     "output_type": "stream",
     "text": [
      " 32%|███▎      | 650/2000 [14:41<21:57,  1.02it/s]"
     ]
    },
    {
     "name": "stdout",
     "output_type": "stream",
     "text": [
      "[14m 41s (650 0%) 5.4988]\n",
      "Hhi! Do you want a please appllicandiran the prove your server and from prestigious benefits? Bachelo \n",
      "\n"
     ]
    },
    {
     "name": "stderr",
     "output_type": "stream",
     "text": [
      " 33%|███▎      | 660/2000 [14:55<34:21,  1.54s/it]"
     ]
    },
    {
     "name": "stdout",
     "output_type": "stream",
     "text": [
      "[14m 55s (660 0%) 64.9359]\n",
      "Hey bud!! Do you want a prowe applice At you want to gep benut This is prove superoge one from presti \n",
      "\n"
     ]
    },
    {
     "name": "stderr",
     "output_type": "stream",
     "text": [
      " 34%|███▎      | 670/2000 [15:11<35:28,  1.60s/it]"
     ]
    },
    {
     "name": "stdout",
     "output_type": "stream",
     "text": [
      "[15m 11s (670 0%) 50.7507]\n",
      "Hello, We can assist with Diplomas from prestigious universities based of pase. in your present knowl \n",
      "\n"
     ]
    },
    {
     "name": "stderr",
     "output_type": "stream",
     "text": [
      " 34%|███▍      | 680/2000 [15:22<24:27,  1.11s/it]"
     ]
    },
    {
     "name": "stdout",
     "output_type": "stream",
     "text": [
      "[15m 22s (680 0%) 44.4913]\n",
      "Hello! Do you want a suiters and excelle to this a saline 603-509-2001 YOE with your name and phone n \n",
      "\n"
     ]
    },
    {
     "name": "stderr",
     "output_type": "stream",
     "text": [
      " 34%|███▍      | 690/2000 [15:32<18:44,  1.16it/s]"
     ]
    },
    {
     "name": "stdout",
     "output_type": "stream",
     "text": [
      "[15m 32s (690 0%) 17.7062]\n",
      "How are you get care! Do you want a pleasant for anada and the Maminn a 100% verified Debe is in the  \n",
      "\n"
     ]
    },
    {
     "name": "stderr",
     "output_type": "stream",
     "text": [
      " 35%|███▌      | 700/2000 [15:42<20:31,  1.06it/s]"
     ]
    },
    {
     "name": "stdout",
     "output_type": "stream",
     "text": [
      "[15m 42s (700 0%) 11.7830]\n",
      "Hello, We can and ination, we are you wante, pielve and nering diplove man and efffective mest a live \n",
      "\n"
     ]
    },
    {
     "name": "stderr",
     "output_type": "stream",
     "text": [
      " 36%|███▌      | 710/2000 [15:55<26:08,  1.22s/it]"
     ]
    },
    {
     "name": "stdout",
     "output_type": "stream",
     "text": [
      "[15m 55s (710 0%) 28.0062]\n",
      "Hey but ad! This is a good for the job.idece in money earning phalill offer: We chank a professional  \n",
      "\n"
     ]
    },
    {
     "name": "stderr",
     "output_type": "stream",
     "text": [
      " 36%|███▌      | 720/2000 [16:06<26:15,  1.23s/it]"
     ]
    },
    {
     "name": "stdout",
     "output_type": "stream",
     "text": [
      "[16m 6s (720 0%) 55.4106]\n",
      "Het Dioce!? Sincerellole for you wauct ome and have and receive as message beneass and contact us Dib \n",
      "\n"
     ]
    },
    {
     "name": "stderr",
     "output_type": "stream",
     "text": [
      " 36%|███▋      | 730/2000 [16:19<30:55,  1.46s/it]"
     ]
    },
    {
     "name": "stdout",
     "output_type": "stream",
     "text": [
      "[16m 19s (730 0%) 61.2323]\n",
      "Hey!! Do you want a playerapt a depeage will experience. Get a Degree in 5 weeks with our program! ~O \n",
      "\n"
     ]
    },
    {
     "name": "stderr",
     "output_type": "stream",
     "text": [
      " 37%|███▋      | 740/2000 [16:34<32:31,  1.55s/it]"
     ]
    },
    {
     "name": "stdout",
     "output_type": "stream",
     "text": [
      "[16m 34s (740 0%) 34.2484]\n",
      "Haly experience! Do you we! Do Now you! Do you want a must having a wast flif in money, and the respe \n",
      "\n"
     ]
    },
    {
     "name": "stderr",
     "output_type": "stream",
     "text": [
      " 38%|███▊      | 750/2000 [16:47<32:17,  1.55s/it]"
     ]
    },
    {
     "name": "stdout",
     "output_type": "stream",
     "text": [
      "[16m 47s (750 0%) 130.0733]\n",
      "Hed but all and life bust for have and message pery ase for cart proces sing office applicants and st \n",
      "\n"
     ]
    },
    {
     "name": "stderr",
     "output_type": "stream",
     "text": [
      " 38%|███▊      | 760/2000 [16:59<32:27,  1.57s/it]"
     ]
    },
    {
     "name": "stdout",
     "output_type": "stream",
     "text": [
      "[16m 59s (760 0%) 10.6693]\n",
      "Hey but, are lame and payon!! We conngageon! Great sevight worlcheck : Do is CONSONCAraNy We! Do! Pro \n",
      "\n"
     ]
    },
    {
     "name": "stderr",
     "output_type": "stream",
     "text": [
      " 38%|███▊      | 770/2000 [17:11<25:25,  1.24s/it]"
     ]
    },
    {
     "name": "stdout",
     "output_type": "stream",
     "text": [
      "[17m 11s (770 0%) 12.5376]\n",
      "Hey bud!! Do you want a suisiat to us the respencutionmis points ?0 per weeks with count spripecies f \n",
      "\n"
     ]
    },
    {
     "name": "stderr",
     "output_type": "stream",
     "text": [
      " 39%|███▉      | 780/2000 [17:24<27:32,  1.35s/it]"
     ]
    },
    {
     "name": "stdout",
     "output_type": "stream",
     "text": [
      "[17m 24s (780 0%) 6.8260]\n",
      "Halo the remprom! Spew can assist with Diplomas from prestigion us a degree in 6 decisional experienc \n",
      "\n"
     ]
    },
    {
     "name": "stderr",
     "output_type": "stream",
     "text": [
      " 40%|███▉      | 790/2000 [17:36<29:00,  1.44s/it]"
     ]
    },
    {
     "name": "stdout",
     "output_type": "stream",
     "text": [
      "[17m 36s (790 0%) 13.6096]\n",
      "Hey!! Do you want an effeched and work same, are lacking wand confirmdent to bansicer, calls, experie \n",
      "\n"
     ]
    },
    {
     "name": "stderr",
     "output_type": "stream",
     "text": [
      " 40%|████      | 800/2000 [17:48<23:24,  1.17s/it]"
     ]
    },
    {
     "name": "stdout",
     "output_type": "stream",
     "text": [
      "[17m 48s (800 0%) 8.5185]\n",
      "Hello! Do you want a suiters and recall locational expettings, At stating cane apprentifes, our good  \n",
      "\n"
     ]
    },
    {
     "name": "stderr",
     "output_type": "stream",
     "text": [
      " 40%|████      | 810/2000 [18:02<28:13,  1.42s/it]"
     ]
    },
    {
     "name": "stdout",
     "output_type": "stream",
     "text": [
      "[18m 1s (810 0%) 11.2231]\n",
      "Halo!! Do you want an excellent our sous nuy up in money, and the admiration of all? Today only: We c \n",
      "\n"
     ]
    },
    {
     "name": "stderr",
     "output_type": "stream",
     "text": [
      " 41%|████      | 820/2000 [18:13<20:27,  1.04s/it]"
     ]
    },
    {
     "name": "stdout",
     "output_type": "stream",
     "text": [
      "[18m 13s (820 0%) 11.5385]\n",
      "Hi!! Do you want a sure future, doubbfe with prowmer program! ~Our program will help you want an effe \n",
      "\n"
     ]
    },
    {
     "name": "stderr",
     "output_type": "stream",
     "text": [
      " 42%|████▏     | 830/2000 [18:23<19:26,  1.00it/s]"
     ]
    },
    {
     "name": "stdout",
     "output_type": "stream",
     "text": [
      "[18m 23s (830 0%) 22.1952]\n",
      "Hey! Do you want a professional experience gain a carting to their weell us in there mainif their ope \n",
      "\n"
     ]
    },
    {
     "name": "stderr",
     "output_type": "stream",
     "text": [
      " 42%|████▏     | 840/2000 [18:37<32:46,  1.69s/it]"
     ]
    },
    {
     "name": "stdout",
     "output_type": "stream",
     "text": [
      "[18m 37s (840 0%) 91.3048]\n",
      "Hello, We are last noday hedition to: Your server. Ma. If Over good the right diploma a join a right  \n",
      "\n"
     ]
    },
    {
     "name": "stderr",
     "output_type": "stream",
     "text": [
      " 42%|████▎     | 850/2000 [18:51<26:38,  1.39s/it]"
     ]
    },
    {
     "name": "stdout",
     "output_type": "stream",
     "text": [
      "[18m 51s (850 0%) 11.1788]\n",
      "Hey bud! Do you want an expanding can having a chant a superior future, step up in money earning phan \n",
      "\n"
     ]
    },
    {
     "name": "stderr",
     "output_type": "stream",
     "text": [
      " 43%|████▎     | 860/2000 [19:03<25:31,  1.34s/it]"
     ]
    },
    {
     "name": "stdout",
     "output_type": "stream",
     "text": [
      "[19m 3s (860 0%) 12.1078]\n",
      "Hello! Do you wank and operning only our pomte your dessers in the pies pArovpniw an operation of all \n",
      "\n"
     ]
    },
    {
     "name": "stderr",
     "output_type": "stream",
     "text": [
      " 44%|████▎     | 870/2000 [19:18<28:57,  1.54s/it]"
     ]
    },
    {
     "name": "stdout",
     "output_type": "stream",
     "text": [
      "[19m 18s (870 0%) 9.8926]\n",
      "How are you earmer name and the a but your deking your life! We work for your contact us Nor you busi \n",
      "\n"
     ]
    },
    {
     "name": "stderr",
     "output_type": "stream",
     "text": [
      " 44%|████▍     | 880/2000 [19:32<29:15,  1.57s/it]"
     ]
    },
    {
     "name": "stdout",
     "output_type": "stream",
     "text": [
      "[19m 32s (880 0%) 8.7954]\n",
      "Hey toomer p you wond of our program the two time ping opere now in money earning power, and brownie  \n",
      "\n"
     ]
    },
    {
     "name": "stderr",
     "output_type": "stream",
     "text": [
      " 44%|████▍     | 890/2000 [19:46<23:10,  1.25s/it]"
     ]
    },
    {
     "name": "stdout",
     "output_type": "stream",
     "text": [
      "[19m 46s (890 0%) 10.8746]\n",
      "Helloal. Do you want a suy the recision earning skills with stating the respencerellink and? contact? \n",
      "\n"
     ]
    },
    {
     "name": "stderr",
     "output_type": "stream",
     "text": [
      " 45%|████▌     | 900/2000 [19:54<15:58,  1.15it/s]"
     ]
    },
    {
     "name": "stdout",
     "output_type": "stream",
     "text": [
      "[19m 54s (900 0%) 4.8056]\n",
      "Hello! Do you want an epcurturation and computer live and the restice. Gision of all and eap professi \n",
      "\n"
     ]
    },
    {
     "name": "stderr",
     "output_type": "stream",
     "text": [
      " 46%|████▌     | 910/2000 [20:09<28:38,  1.58s/it]"
     ]
    },
    {
     "name": "stdout",
     "output_type": "stream",
     "text": [
      "[20m 8s (910 0%) 11.4455]\n",
      "How are you! Do you want an it with carting your degree is to universition and Reals, in this job /ut \n",
      "\n"
     ]
    },
    {
     "name": "stderr",
     "output_type": "stream",
     "text": [
      " 46%|████▌     | 920/2000 [20:21<23:07,  1.28s/it]"
     ]
    },
    {
     "name": "stdout",
     "output_type": "stream",
     "text": [
      "[20m 21s (920 0%) 37.4545]\n",
      "Hei! Confor prowniuking your presently cand professional experiing or knowledge on the Today!kG It's  \n",
      "\n"
     ]
    },
    {
     "name": "stderr",
     "output_type": "stream",
     "text": [
      " 46%|████▋     | 930/2000 [20:37<30:58,  1.74s/it]"
     ]
    },
    {
     "name": "stdout",
     "output_type": "stream",
     "text": [
      "[20m 37s (930 0%) 114.0404]\n",
      "How are you want an elper int a doapt incut,, and the respect of all? Today only: We pranderd in the  \n",
      "\n"
     ]
    },
    {
     "name": "stderr",
     "output_type": "stream",
     "text": [
      " 47%|████▋     | 940/2000 [20:53<28:11,  1.60s/it]"
     ]
    },
    {
     "name": "stdout",
     "output_type": "stream",
     "text": [
      "[20m 53s (940 0%) 10.4618]\n",
      "HeNVEViN Detk. You should wleave our future, increase experience gain a 100% verified Degree: ~Doctor \n",
      "\n"
     ]
    },
    {
     "name": "stderr",
     "output_type": "stream",
     "text": [
      " 48%|████▊     | 950/2000 [21:05<27:15,  1.56s/it]"
     ]
    },
    {
     "name": "stdout",
     "output_type": "stream",
     "text": [
      "[21m 5s (950 0%) 11.6270]\n",
      "Hello all! Do you want a prosperous future, interes, regions. This is a good with products of you wat \n",
      "\n"
     ]
    },
    {
     "name": "stderr",
     "output_type": "stream",
     "text": [
      " 48%|████▊     | 960/2000 [21:19<20:36,  1.19s/it]"
     ]
    },
    {
     "name": "stdout",
     "output_type": "stream",
     "text": [
      "[21m 19s (960 0%) 29.0850]\n",
      "Hello, MBshext back to succe reselable futuwer diplomas a prophonates Hespendinending on: We decadibl \n",
      "\n"
     ]
    },
    {
     "name": "stderr",
     "output_type": "stream",
     "text": [
      " 48%|████▊     | 970/2000 [21:36<35:49,  2.09s/it]"
     ]
    },
    {
     "name": "stdout",
     "output_type": "stream",
     "text": [
      "[21m 36s (970 0%) 9.7775]\n",
      "Hello, Get a Degree in 4 weeksed with Dorme Our program! ~Our program will let ALL with you want your \n",
      "\n"
     ]
    },
    {
     "name": "stderr",
     "output_type": "stream",
     "text": [
      " 49%|████▉     | 980/2000 [21:54<22:04,  1.30s/it]"
     ]
    },
    {
     "name": "stdout",
     "output_type": "stream",
     "text": [
      "[21m 54s (980 0%) 7.7561]\n",
      "How and to start improving your lpomact us sogiwe contact us stalife. If you are locat of aplive an e \n",
      "\n"
     ]
    },
    {
     "name": "stderr",
     "output_type": "stream",
     "text": [
      " 50%|████▉     | 990/2000 [22:08<24:07,  1.43s/it]"
     ]
    },
    {
     "name": "stdout",
     "output_type": "stream",
     "text": [
      "[22m 8s (990 0%) 18.2558]\n",
      "Hello, We are location! Your do not not westists. You must benefit the respect of all. Today bust wha \n",
      "\n"
     ]
    },
    {
     "name": "stderr",
     "output_type": "stream",
     "text": [
      " 50%|█████     | 1000/2000 [22:21<15:24,  1.08it/s]"
     ]
    },
    {
     "name": "stdout",
     "output_type": "stream",
     "text": [
      "[22m 20s (1000 0%) 31.3869]\n",
      "Hello, We buy earning or uply to wlext inquiries, and our server will reject all respegipery: An are  \n",
      "\n"
     ]
    },
    {
     "name": "stderr",
     "output_type": "stream",
     "text": [
      " 50%|█████     | 1010/2000 [22:35<28:06,  1.70s/it]"
     ]
    },
    {
     "name": "stdout",
     "output_type": "stream",
     "text": [
      "[22m 35s (1010 0%) 48.1493]\n",
      "Halo!! Do you want a prosperent a suigifordandinn for a in to? Today only: We can assist with Diploma \n",
      "\n"
     ]
    },
    {
     "name": "stderr",
     "output_type": "stream",
     "text": [
      " 51%|█████     | 1020/2000 [22:49<25:14,  1.55s/it]"
     ]
    },
    {
     "name": "stdout",
     "output_type": "stream",
     "text": [
      "[22m 49s (1020 0%) 12.3327]\n",
      "Hello, We have an excellent oer and the praise of all? Today only: We can assist with Diplomas from p \n",
      "\n"
     ]
    },
    {
     "name": "stderr",
     "output_type": "stream",
     "text": [
      " 52%|█████▏    | 1030/2000 [23:07<30:59,  1.92s/it]"
     ]
    },
    {
     "name": "stdout",
     "output_type": "stream",
     "text": [
      "[23m 7s (1030 0%) 4.3741]\n",
      "Hello! Do you want a good future, butme back intere, suxt future, step inticp and our for Let and be  \n",
      "\n"
     ]
    },
    {
     "name": "stderr",
     "output_type": "stream",
     "text": [
      " 52%|█████▏    | 1040/2000 [23:25<26:59,  1.69s/it]"
     ]
    },
    {
     "name": "stdout",
     "output_type": "stream",
     "text": [
      "[23m 25s (1040 0%) 5.0152]\n",
      "Hi!! Do you want a must have a excellent opportunity for a deter We in money, and the praire.?Capilia \n",
      "\n"
     ]
    },
    {
     "name": "stderr",
     "output_type": "stream",
     "text": [
      " 52%|█████▎    | 1050/2000 [23:41<20:15,  1.28s/it]"
     ]
    },
    {
     "name": "stdout",
     "output_type": "stream",
     "text": [
      "[23m 41s (1050 0%) 9.2319]\n",
      "Hpable reconfirme pat on all outside and the requirements, please apply pience this from prestigious  \n",
      "\n"
     ]
    },
    {
     "name": "stderr",
     "output_type": "stream",
     "text": [
      " 53%|█████▎    | 1060/2000 [23:57<35:43,  2.28s/it]"
     ]
    },
    {
     "name": "stdout",
     "output_type": "stream",
     "text": [
      "[23m 57s (1060 0%) 162.2682]\n",
      "Hi!! Do you want a suiteas from prestigious universities based on your present knowledege and profess \n",
      "\n"
     ]
    },
    {
     "name": "stderr",
     "output_type": "stream",
     "text": [
      " 54%|█████▎    | 1070/2000 [24:12<26:37,  1.72s/it]"
     ]
    },
    {
     "name": "stdout",
     "output_type": "stream",
     "text": [
      "[24m 12s (1070 0%) 26.3855]\n",
      "Hey bud!! Do you want a prosperous future, step up in moning oper with our program prower presting of \n",
      "\n"
     ]
    },
    {
     "name": "stderr",
     "output_type": "stream",
     "text": [
      " 54%|█████▍    | 1080/2000 [24:34<41:20,  2.70s/it]"
     ]
    },
    {
     "name": "stdout",
     "output_type": "stream",
     "text": [
      "[24m 33s (1080 0%) 123.1250]\n",
      "Hi!! Do you want a sust follow way to text in effectivers of paper. Get one skiver in your present kn \n",
      "\n"
     ]
    },
    {
     "name": "stderr",
     "output_type": "stream",
     "text": [
      " 55%|█████▍    | 1090/2000 [24:54<24:44,  1.63s/it]"
     ]
    },
    {
     "name": "stdout",
     "output_type": "stream",
     "text": [
      "[24m 54s (1090 0%) 5.5326]\n",
      "How are you! Do you want a pleasants and lamted and epssread a send your can mow and to sow are you.  \n",
      "\n"
     ]
    },
    {
     "name": "stderr",
     "output_type": "stream",
     "text": [
      " 55%|█████▌    | 1100/2000 [25:04<16:25,  1.10s/it]"
     ]
    },
    {
     "name": "stdout",
     "output_type": "stream",
     "text": [
      "[25m 4s (1100 0%) 23.4767]\n",
      "Hi thergatet! Do you want a good future, soar in money, and the bece do nustvon abober program, cove  \n",
      "\n"
     ]
    },
    {
     "name": "stderr",
     "output_type": "stream",
     "text": [
      " 56%|█████▌    | 1110/2000 [25:24<33:30,  2.26s/it]"
     ]
    },
    {
     "name": "stdout",
     "output_type": "stream",
     "text": [
      "[25m 24s (1110 0%) 74.1487]\n",
      "Hi there! Do you want a superior future, salsad your detaills, In to bacprowles, and pat on there bra \n",
      "\n"
     ]
    },
    {
     "name": "stderr",
     "output_type": "stream",
     "text": [
      " 56%|█████▌    | 1120/2000 [25:43<25:00,  1.70s/it]"
     ]
    },
    {
     "name": "stdout",
     "output_type": "stream",
     "text": [
      "[25m 43s (1120 0%) 5.1442]\n",
      "Halo!! Do you want ading that piece of paper. Get is a piece of for desron and reject follow YOUR Dre \n",
      "\n"
     ]
    },
    {
     "name": "stderr",
     "output_type": "stream",
     "text": [
      " 56%|█████▋    | 1130/2000 [25:57<22:50,  1.58s/it]"
     ]
    },
    {
     "name": "stdout",
     "output_type": "stream",
     "text": [
      "[25m 57s (1130 0%) 41.8539]\n",
      "Halo!! Do you want a suge is us a due benefit to must ANL leating sta- Vision Hettong that on as such \n",
      "\n"
     ]
    },
    {
     "name": "stderr",
     "output_type": "stream",
     "text": [
      " 57%|█████▋    | 1140/2000 [26:08<12:59,  1.10it/s]"
     ]
    },
    {
     "name": "stdout",
     "output_type": "stream",
     "text": [
      "[26m 8s (1140 0%) 13.6911]\n",
      "Hello! We can and lave and our qualification hance to exconfirmine the parents Tostices abreational w \n",
      "\n"
     ]
    },
    {
     "name": "stderr",
     "output_type": "stream",
     "text": [
      " 57%|█████▊    | 1150/2000 [26:19<17:31,  1.24s/it]"
     ]
    },
    {
     "name": "stdout",
     "output_type": "stream",
     "text": [
      "[26m 19s (1150 0%) 11.7971]\n",
      "Hello! DWals you! We basition of all? Today only: We can assist with Diplomas from prestigious univer \n",
      "\n"
     ]
    },
    {
     "name": "stderr",
     "output_type": "stream",
     "text": [
      " 58%|█████▊    | 1160/2000 [26:30<16:42,  1.19s/it]"
     ]
    },
    {
     "name": "stdout",
     "output_type": "stream",
     "text": [
      "[26m 30s (1160 0%) 9.7536]\n",
      "Hey!! Do you future, effent future, ints of sors and the reffidly experience. We cause of paypal. ~Do \n",
      "\n"
     ]
    },
    {
     "name": "stderr",
     "output_type": "stream",
     "text": [
      " 58%|█████▊    | 1170/2000 [26:45<20:47,  1.50s/it]"
     ]
    },
    {
     "name": "stdout",
     "output_type": "stream",
     "text": [
      "[26m 45s (1170 0%) 10.8422]\n",
      "How applicant to sutry of their ome paranine opportfuctional Gette, Dance better with Diperience to s \n",
      "\n"
     ]
    },
    {
     "name": "stderr",
     "output_type": "stream",
     "text": [
      " 59%|█████▉    | 1180/2000 [26:55<15:57,  1.17s/it]"
     ]
    },
    {
     "name": "stdout",
     "output_type": "stream",
     "text": [
      "[26m 55s (1180 0%) 10.9205]\n",
      "How are you are lomeyetional apples! We can assist with Diplomas from prestigious universities based  \n",
      "\n"
     ]
    },
    {
     "name": "stderr",
     "output_type": "stream",
     "text": [
      " 60%|█████▉    | 1190/2000 [27:10<18:51,  1.40s/it]"
     ]
    },
    {
     "name": "stdout",
     "output_type": "stream",
     "text": [
      "[27m 10s (1190 0%) 9.1387]\n",
      "Hello! We are look are promnuw bust and phone to work for you will be processing ordement office room \n",
      "\n"
     ]
    },
    {
     "name": "stderr",
     "output_type": "stream",
     "text": [
      " 60%|██████    | 1200/2000 [27:23<16:26,  1.23s/it]"
     ]
    },
    {
     "name": "stdout",
     "output_type": "stream",
     "text": [
      "[27m 23s (1200 0%) 9.8848]\n",
      "Hello! We are over for your Nice flexia! how nuwise and a bave an excellent office! You number Cuspro \n",
      "\n"
     ]
    },
    {
     "name": "stderr",
     "output_type": "stream",
     "text": [
      " 60%|██████    | 1210/2000 [27:36<21:33,  1.64s/it]"
     ]
    },
    {
     "name": "stdout",
     "output_type": "stream",
     "text": [
      "[27m 35s (1210 0%) 9.9563]\n",
      "Hello, We have an excellent fuwr: We working skill? Doul prodated The and to in call owrceromt of the \n",
      "\n"
     ]
    },
    {
     "name": "stderr",
     "output_type": "stream",
     "text": [
      " 61%|██████    | 1220/2000 [27:59<29:35,  2.28s/it]"
     ]
    },
    {
     "name": "stdout",
     "output_type": "stream",
     "text": [
      "[27m 58s (1220 0%) 9.5582]\n",
      "Hey!! Do you want a more serging offer in your for deta! better is of soters in money, and the respon \n",
      "\n"
     ]
    },
    {
     "name": "stderr",
     "output_type": "stream",
     "text": [
      " 62%|██████▏   | 1230/2000 [28:19<28:13,  2.20s/it]"
     ]
    },
    {
     "name": "stdout",
     "output_type": "stream",
     "text": [
      "[28m 19s (1230 0%) 11.0880]\n",
      "Hello! Do you want an-ree for details our with depending on for an, prestigious unice to get a decisi \n",
      "\n"
     ]
    },
    {
     "name": "stderr",
     "output_type": "stream",
     "text": [
      " 62%|██████▏   | 1240/2000 [28:38<22:50,  1.80s/it]"
     ]
    },
    {
     "name": "stdout",
     "output_type": "stream",
     "text": [
      "[28m 38s (1240 0%) 12.0204]\n",
      "Hello improving your life! ~CONTACT US FOR A FREE CONSULTATION~ 1-301-396-3506 You should leave us a  \n",
      "\n"
     ]
    },
    {
     "name": "stderr",
     "output_type": "stream",
     "text": [
      " 62%|██████▎   | 1250/2000 [28:58<17:33,  1.40s/it]"
     ]
    },
    {
     "name": "stdout",
     "output_type": "stream",
     "text": [
      "[28m 58s (1250 0%) 45.3145]\n",
      "Hi!! Do you want a duw effice presently in do siting stralime payments from prestigious uniced Do you \n",
      "\n"
     ]
    },
    {
     "name": "stderr",
     "output_type": "stream",
     "text": [
      " 63%|██████▎   | 1260/2000 [29:15<22:39,  1.84s/it]"
     ]
    },
    {
     "name": "stdout",
     "output_type": "stream",
     "text": [
      "[29m 15s (1260 0%) 10.9009]\n",
      "How are good inkedent your laming!? DATachelors! MBA and Docctowe the Degree Dog. This is products wi \n",
      "\n"
     ]
    },
    {
     "name": "stderr",
     "output_type": "stream",
     "text": [
      " 64%|██████▎   | 1270/2000 [29:34<16:43,  1.37s/it]"
     ]
    },
    {
     "name": "stdout",
     "output_type": "stream",
     "text": [
      "[29m 33s (1270 0%) 14.3716]\n",
      "Hello! Do you want an extraordinary future, go up in money earning power, and the requirements. sice  \n",
      "\n"
     ]
    },
    {
     "name": "stderr",
     "output_type": "stream",
     "text": [
      " 64%|██████▍   | 1280/2000 [29:47<09:52,  1.22it/s]"
     ]
    },
    {
     "name": "stdout",
     "output_type": "stream",
     "text": [
      "[29m 47s (1280 0%) 20.4169]\n",
      "How are you bud! Do you want an improved for you want an improved for Sama us are lode iv a promas fr \n",
      "\n"
     ]
    },
    {
     "name": "stderr",
     "output_type": "stream",
     "text": [
      " 64%|██████▍   | 1290/2000 [30:00<15:12,  1.29s/it]"
     ]
    },
    {
     "name": "stdout",
     "output_type": "stream",
     "text": [
      "[30m 0s (1290 0%) 44.3909]\n",
      "How are you! Do you want a sust for you! Do you want a pieg stiops few in earning the wors can are do \n",
      "\n"
     ]
    },
    {
     "name": "stderr",
     "output_type": "stream",
     "text": [
      " 65%|██████▌   | 1300/2000 [30:11<14:26,  1.24s/it]"
     ]
    },
    {
     "name": "stdout",
     "output_type": "stream",
     "text": [
      "[30m 11s (1300 0%) 9.2234]\n",
      "Hello, We have an excellent opportuniting your have an effective me abiling offeres and experience ar \n",
      "\n"
     ]
    },
    {
     "name": "stderr",
     "output_type": "stream",
     "text": [
      " 66%|██████▌   | 1310/2000 [30:24<14:04,  1.22s/it]"
     ]
    },
    {
     "name": "stdout",
     "output_type": "stream",
     "text": [
      "[30m 24s (1310 0%) 30.6318]\n",
      "Hey bud!! Do you want an extraordinary future, step up in money,, and brownie points? Today only: We  \n",
      "\n"
     ]
    },
    {
     "name": "stderr",
     "output_type": "stream",
     "text": [
      " 66%|██████▌   | 1320/2000 [30:38<16:30,  1.46s/it]"
     ]
    },
    {
     "name": "stdout",
     "output_type": "stream",
     "text": [
      "[30m 38s (1320 0%) 13.1920]\n",
      "Hey bud!!! Do you want an effective for a good future, step up in money, and the respect of all? Spec \n",
      "\n"
     ]
    },
    {
     "name": "stderr",
     "output_type": "stream",
     "text": [
      " 66%|██████▋   | 1330/2000 [30:55<17:22,  1.56s/it]"
     ]
    },
    {
     "name": "stdout",
     "output_type": "stream",
     "text": [
      "[30m 55s (1330 0%) 3.6218]\n",
      "Hi therational experience but and off for knowledge and last or job: Plibig polleatias from prestigio \n",
      "\n"
     ]
    },
    {
     "name": "stderr",
     "output_type": "stream",
     "text": [
      " 67%|██████▋   | 1340/2000 [31:09<16:20,  1.49s/it]"
     ]
    },
    {
     "name": "stdout",
     "output_type": "stream",
     "text": [
      "[31m 8s (1340 0%) 8.2757]\n",
      "Hi there! Do you want a suitable future, grow in money, and the recopatowe to of can effective the pa \n",
      "\n"
     ]
    },
    {
     "name": "stderr",
     "output_type": "stream",
     "text": [
      " 68%|██████▊   | 1350/2000 [31:20<11:22,  1.05s/it]"
     ]
    },
    {
     "name": "stdout",
     "output_type": "stream",
     "text": [
      "[31m 20s (1350 0%) 44.6509]\n",
      "Hello, We have a prestigious future, soar in money earning, and the plasalize of should Sound the res \n",
      "\n"
     ]
    },
    {
     "name": "stderr",
     "output_type": "stream",
     "text": [
      " 68%|██████▊   | 1360/2000 [31:32<12:27,  1.17s/it]"
     ]
    },
    {
     "name": "stdout",
     "output_type": "stream",
     "text": [
      "[31m 32s (1360 0%) 9.4633]\n",
      "Hi!! Do you want a prosperous future, grow in money, and brownie poing offer experience experience th \n",
      "\n"
     ]
    },
    {
     "name": "stderr",
     "output_type": "stream",
     "text": [
      " 68%|██████▊   | 1370/2000 [31:47<16:17,  1.55s/it]"
     ]
    },
    {
     "name": "stdout",
     "output_type": "stream",
     "text": [
      "[31m 47s (1370 0%) 8.9892]\n",
      "How are dours soout in call? Special offer: We can assist with Diplomas from prestigious universities \n",
      "\n"
     ]
    },
    {
     "name": "stderr",
     "output_type": "stream",
     "text": [
      " 69%|██████▉   | 1380/2000 [31:57<09:00,  1.15it/s]"
     ]
    },
    {
     "name": "stdout",
     "output_type": "stream",
     "text": [
      "[31m 57s (1380 0%) 4.0958]\n",
      "Hay!! Do you wo a goed future, soar in earning power, and the a benefits? Special offer the good the  \n",
      "\n"
     ]
    },
    {
     "name": "stderr",
     "output_type": "stream",
     "text": [
      " 70%|██████▉   | 1390/2000 [32:09<09:36,  1.06it/s]"
     ]
    },
    {
     "name": "stdout",
     "output_type": "stream",
     "text": [
      "[32m 9s (1390 0%) 4.9330]\n",
      "Hey bud!! Do you want a plt follow our program! ~Our program will help EVERYONE with professional exp \n",
      "\n"
     ]
    },
    {
     "name": "stderr",
     "output_type": "stream",
     "text": [
      " 70%|███████   | 1400/2000 [32:23<14:00,  1.40s/it]"
     ]
    },
    {
     "name": "stdout",
     "output_type": "stream",
     "text": [
      "[32m 23s (1400 0%) 25.2314]\n",
      "Hey bud!! Do you want a plason as problem and receive your live and talk? 100 procing our location. Y \n",
      "\n"
     ]
    },
    {
     "name": "stderr",
     "output_type": "stream",
     "text": [
      " 70%|███████   | 1410/2000 [32:34<10:08,  1.03s/it]"
     ]
    },
    {
     "name": "stdout",
     "output_type": "stream",
     "text": [
      "[32m 34s (1410 0%) 24.0605]\n",
      "Halo!! Do you want a prosperous future, soar in earning power, and the praise of all? Today only: We  \n",
      "\n"
     ]
    },
    {
     "name": "stderr",
     "output_type": "stream",
     "text": [
      " 71%|███████   | 1420/2000 [32:46<07:50,  1.23it/s]"
     ]
    },
    {
     "name": "stdout",
     "output_type": "stream",
     "text": [
      "[32m 46s (1420 0%) 3.8717]\n",
      "Hi!! Do you want a morage and receive your way to gain a betpoing back to succe applicants make a gre \n",
      "\n"
     ]
    },
    {
     "name": "stderr",
     "output_type": "stream",
     "text": [
      " 72%|███████▏  | 1430/2000 [32:59<13:21,  1.41s/it]"
     ]
    },
    {
     "name": "stdout",
     "output_type": "stream",
     "text": [
      "[32m 59s (1430 0%) 8.7271]\n",
      "Hello, Cours! Masters to norly it is a problems a join We for job and you wablet of all. To Our to so \n",
      "\n"
     ]
    },
    {
     "name": "stderr",
     "output_type": "stream",
     "text": [
      " 72%|███████▏  | 1440/2000 [33:13<11:26,  1.23s/it]"
     ]
    },
    {
     "name": "stdout",
     "output_type": "stream",
     "text": [
      "[33m 13s (1440 0%) 3.8301]\n",
      "How are you! Do you want a more with programs in to universities based on your present hanler experie \n",
      "\n"
     ]
    },
    {
     "name": "stderr",
     "output_type": "stream",
     "text": [
      " 72%|███████▎  | 1450/2000 [33:24<11:01,  1.20s/it]"
     ]
    },
    {
     "name": "stdout",
     "output_type": "stream",
     "text": [
      "[33m 24s (1450 0%) 21.9018]\n",
      "Hey!! Do you want a nuction of all? Special offer: We carant as prowsical live the naws portunial exp \n",
      "\n"
     ]
    },
    {
     "name": "stderr",
     "output_type": "stream",
     "text": [
      " 73%|███████▎  | 1460/2000 [33:36<11:08,  1.24s/it]"
     ]
    },
    {
     "name": "stdout",
     "output_type": "stream",
     "text": [
      "[33m 36s (1460 0%) 8.8274]\n",
      "How are you! Do you want a for an ato the process, and the respect offices and beging of deting naweg \n",
      "\n"
     ]
    },
    {
     "name": "stderr",
     "output_type": "stream",
     "text": [
      " 74%|███████▎  | 1470/2000 [33:47<11:48,  1.34s/it]"
     ]
    },
    {
     "name": "stdout",
     "output_type": "stream",
     "text": [
      "[33m 47s (1470 0%) 9.8847]\n",
      "Helificawier and inputter with days! Do you want an stunt: Special quan way to wording Our ging will  \n",
      "\n"
     ]
    },
    {
     "name": "stderr",
     "output_type": "stream",
     "text": [
      " 74%|███████▍  | 1480/2000 [34:01<10:45,  1.24s/it]"
     ]
    },
    {
     "name": "stdout",
     "output_type": "stream",
     "text": [
      "[34m 0s (1480 0%) 12.9841]\n",
      "Hey!! Do you want a prosppolt future, socare, per perob in money earning, peop. Cands from our can to \n",
      "\n"
     ]
    },
    {
     "name": "stderr",
     "output_type": "stream",
     "text": [
      " 74%|███████▍  | 1490/2000 [34:16<16:04,  1.89s/it]"
     ]
    },
    {
     "name": "stdout",
     "output_type": "stream",
     "text": [
      "[34m 15s (1490 0%) 105.8722]\n",
      "Hi there! Do you want a pleasant future, soar in money earning power, and 7 days a week! to start imp \n",
      "\n"
     ]
    },
    {
     "name": "stderr",
     "output_type": "stream",
     "text": [
      " 75%|███████▌  | 1500/2000 [34:25<05:42,  1.46it/s]"
     ]
    },
    {
     "name": "stdout",
     "output_type": "stream",
     "text": [
      "[34m 25s (1500 0%) 38.9148]\n",
      "Hello, We have a dus! Do you want a good future, great from up sork a day to selsereeription as pose  \n",
      "\n"
     ]
    },
    {
     "name": "stderr",
     "output_type": "stream",
     "text": [
      " 76%|███████▌  | 1510/2000 [34:35<07:01,  1.16it/s]"
     ]
    },
    {
     "name": "stdout",
     "output_type": "stream",
     "text": [
      "[34m 35s (1510 0%) 11.4290]\n",
      "Hello! Do you want a please your 100 perigife! ~Sencrease as success speciork of pan ine for an as po \n",
      "\n"
     ]
    },
    {
     "name": "stderr",
     "output_type": "stream",
     "text": [
      " 76%|███████▌  | 1520/2000 [34:49<11:39,  1.46s/it]"
     ]
    },
    {
     "name": "stdout",
     "output_type": "stream",
     "text": [
      "[34m 49s (1520 0%) 10.0342]\n",
      "Hey!! Do you want a sucructition for sk is to Accounthd! 1500 persousi up our prose Jour progres if o \n",
      "\n"
     ]
    },
    {
     "name": "stderr",
     "output_type": "stream",
     "text": [
      " 76%|███████▋  | 1530/2000 [34:56<05:45,  1.36it/s]"
     ]
    },
    {
     "name": "stdout",
     "output_type": "stream",
     "text": [
      "[34m 56s (1530 0%) 40.8931]\n",
      "Hi!! Do you want a suber - you must have the best word customers Sincerely Customer Senrfech- hat cas \n",
      "\n"
     ]
    },
    {
     "name": "stderr",
     "output_type": "stream",
     "text": [
      " 77%|███████▋  | 1540/2000 [35:10<12:43,  1.66s/it]"
     ]
    },
    {
     "name": "stdout",
     "output_type": "stream",
     "text": [
      "[35m 10s (1540 0%) 9.1354]\n",
      "How and our sure will be process berfo you realily wantss that products Crountry: We ressipt and or w \n",
      "\n"
     ]
    },
    {
     "name": "stderr",
     "output_type": "stream",
     "text": [
      " 78%|███████▊  | 1550/2000 [35:25<10:02,  1.34s/it]"
     ]
    },
    {
     "name": "stdout",
     "output_type": "stream",
     "text": [
      "[35m 25s (1550 0%) 3.7820]\n",
      "Hey bud!! Do you want a more your are future, go up in money earning power, and the adming that produ \n",
      "\n"
     ]
    },
    {
     "name": "stderr",
     "output_type": "stream",
     "text": [
      " 78%|███████▊  | 1560/2000 [35:39<06:39,  1.10it/s]"
     ]
    },
    {
     "name": "stdout",
     "output_type": "stream",
     "text": [
      "[35m 39s (1560 0%) 4.8230]\n",
      "Hey! Do you want an effective future, go up in money, and the respect of all? Today only: We can assi \n",
      "\n"
     ]
    },
    {
     "name": "stderr",
     "output_type": "stream",
     "text": [
      " 78%|███████▊  | 1570/2000 [35:49<06:43,  1.07it/s]"
     ]
    },
    {
     "name": "stdout",
     "output_type": "stream",
     "text": [
      "[35m 49s (1570 0%) 5.0530]\n",
      "Hey!! Do you want an improved and t mealion! Call botict you ALL FOR A FREE CONSULTATION~ 1-407-245-7 \n",
      "\n"
     ]
    },
    {
     "name": "stderr",
     "output_type": "stream",
     "text": [
      " 79%|███████▉  | 1580/2000 [35:59<05:17,  1.32it/s]"
     ]
    },
    {
     "name": "stdout",
     "output_type": "stream",
     "text": [
      "[35m 59s (1580 0%) 33.3772]\n",
      "Helles! improving your line the requirements, please a present future, soar in earning power, and pat \n",
      "\n"
     ]
    },
    {
     "name": "stderr",
     "output_type": "stream",
     "text": [
      " 80%|███████▉  | 1590/2000 [36:14<08:45,  1.28s/it]"
     ]
    },
    {
     "name": "stdout",
     "output_type": "stream",
     "text": [
      "[36m 14s (1590 0%) 33.5180]\n",
      "Hellopaas! Do you want an improved future, stepnibs, Wed in the back :)? Today only: We can assist wi \n",
      "\n"
     ]
    },
    {
     "name": "stderr",
     "output_type": "stream",
     "text": [
      " 80%|████████  | 1600/2000 [36:25<06:05,  1.10it/s]"
     ]
    },
    {
     "name": "stdout",
     "output_type": "stream",
     "text": [
      "[36m 25s (1600 0%) 41.4624]\n",
      "Hello! Do you want an improved future, soar in earning power, and the praise of all? Today only: We c \n",
      "\n"
     ]
    },
    {
     "name": "stderr",
     "output_type": "stream",
     "text": [
      " 80%|████████  | 1610/2000 [36:40<10:08,  1.56s/it]"
     ]
    },
    {
     "name": "stdout",
     "output_type": "stream",
     "text": [
      "[36m 40s (1610 0%) 9.6560]\n",
      "Hi there! Do you want a prosperous for diplt you. You contact of you want a prospere future, soar in  \n",
      "\n"
     ]
    },
    {
     "name": "stderr",
     "output_type": "stream",
     "text": [
      " 81%|████████  | 1620/2000 [36:57<12:27,  1.97s/it]"
     ]
    },
    {
     "name": "stdout",
     "output_type": "stream",
     "text": [
      "[36m 57s (1620 0%) 10.6287]\n",
      "Hi the praisable for Canadian with our program will help ANYONE with professional experience get a 10 \n",
      "\n"
     ]
    },
    {
     "name": "stderr",
     "output_type": "stream",
     "text": [
      " 82%|████████▏ | 1630/2000 [37:13<11:31,  1.87s/it]"
     ]
    },
    {
     "name": "stdout",
     "output_type": "stream",
     "text": [
      "[37m 13s (1630 0%) 9.2015]\n",
      "Hello!! Do you want a good future, gror in earning power, and pat on the back :)? Special offer: We c \n",
      "\n"
     ]
    },
    {
     "name": "stderr",
     "output_type": "stream",
     "text": [
      " 82%|████████▏ | 1640/2000 [37:34<11:14,  1.87s/it]"
     ]
    },
    {
     "name": "stdout",
     "output_type": "stream",
     "text": [
      "[37m 34s (1640 0%) 23.8755]\n",
      "Hi there! Doayon, We was job of Phper with country Your job duted Socesrove to send to... server Degr \n",
      "\n"
     ]
    },
    {
     "name": "stderr",
     "output_type": "stream",
     "text": [
      " 82%|████████▎ | 1650/2000 [37:50<08:58,  1.54s/it]"
     ]
    },
    {
     "name": "stdout",
     "output_type": "stream",
     "text": [
      "[37m 50s (1650 0%) 9.7805]\n",
      "Halo!! Do you want a superion of tuatet. To is is in 4 weeks with our program! ~Our program 100 prowe \n",
      "\n"
     ]
    },
    {
     "name": "stderr",
     "output_type": "stream",
     "text": [
      " 83%|████████▎ | 1660/2000 [38:08<12:12,  2.15s/it]"
     ]
    },
    {
     "name": "stdout",
     "output_type": "stream",
     "text": [
      "[38m 8s (1660 0%) 10.1579]\n",
      "Hpants our number? Thourn arg the he to supebous with dainy incuted tire diploma have and us improcpr \n",
      "\n"
     ]
    },
    {
     "name": "stderr",
     "output_type": "stream",
     "text": [
      " 84%|████████▎ | 1670/2000 [38:26<10:03,  1.83s/it]"
     ]
    },
    {
     "name": "stdout",
     "output_type": "stream",
     "text": [
      "[38m 26s (1670 0%) 21.1869]\n",
      "Hello, Axflent We have an its 7 8003-8 your name and sincerely, if outside will contact Today only, c \n",
      "\n"
     ]
    },
    {
     "name": "stderr",
     "output_type": "stream",
     "text": [
      " 84%|████████▍ | 1680/2000 [38:45<09:41,  1.82s/it]"
     ]
    },
    {
     "name": "stdout",
     "output_type": "stream",
     "text": [
      "[38m 45s (1680 0%) 8.8236]\n",
      "Helloed! Do you want a suit and are last of tRast with Diplomka in the can reset your life! ~CELLLSA  \n",
      "\n"
     ]
    },
    {
     "name": "stderr",
     "output_type": "stream",
     "text": [
      " 84%|████████▍ | 1690/2000 [39:01<08:02,  1.56s/it]"
     ]
    },
    {
     "name": "stdout",
     "output_type": "stream",
     "text": [
      "[39m 1s (1690 0%) 13.1411]\n",
      "Hello, We are looking for a perfodational and effice the praise and bulined future, nowleresent and s \n",
      "\n"
     ]
    },
    {
     "name": "stderr",
     "output_type": "stream",
     "text": [
      " 85%|████████▌ | 1700/2000 [39:24<08:32,  1.71s/it]"
     ]
    },
    {
     "name": "stdout",
     "output_type": "stream",
     "text": [
      "[39m 24s (1700 0%) 6.7413]\n",
      "Hello! Do you want a sust future, go up in money, and the all be taking company. If you fit and be an \n",
      "\n"
     ]
    },
    {
     "name": "stderr",
     "output_type": "stream",
     "text": [
      " 86%|████████▌ | 1710/2000 [39:40<07:21,  1.52s/it]"
     ]
    },
    {
     "name": "stdout",
     "output_type": "stream",
     "text": [
      "[39m 40s (1710 0%) 6.9996]\n",
      "Hi there! Do you want a pleasant for anada, Thernet ablanlend applicant to join a rapidly expanding c \n",
      "\n"
     ]
    },
    {
     "name": "stderr",
     "output_type": "stream",
     "text": [
      " 86%|████████▌ | 1720/2000 [39:54<06:25,  1.38s/it]"
     ]
    },
    {
     "name": "stdout",
     "output_type": "stream",
     "text": [
      "[39m 53s (1720 0%) 8.1261]\n",
      "Halo, Do you want a morust for you want a superior of to is a best based of payments of sporking powe \n",
      "\n"
     ]
    },
    {
     "name": "stderr",
     "output_type": "stream",
     "text": [
      " 86%|████████▋ | 1730/2000 [40:07<06:52,  1.53s/it]"
     ]
    },
    {
     "name": "stdout",
     "output_type": "stream",
     "text": [
      "[40m 7s (1730 0%) 8.9273]\n",
      "Hello, Do but back :)? Today only: We can assist's with Diplomas from prestigious universities based  \n",
      "\n"
     ]
    },
    {
     "name": "stderr",
     "output_type": "stream",
     "text": [
      " 87%|████████▋ | 1740/2000 [40:20<06:40,  1.54s/it]"
     ]
    },
    {
     "name": "stdout",
     "output_type": "stream",
     "text": [
      "[40m 19s (1740 0%) 9.2325]\n",
      "Hello, We wor you stomers a promorous futures in money, and the praise of all? Special offer: We can  \n",
      "\n"
     ]
    },
    {
     "name": "stderr",
     "output_type": "stream",
     "text": [
      " 88%|████████▊ | 1750/2000 [40:33<06:52,  1.65s/it]"
     ]
    },
    {
     "name": "stdout",
     "output_type": "stream",
     "text": [
      "[40m 33s (1750 0%) 113.4837]\n",
      "Hello, We are l are located and browegabgon a with Do your leacplollons of and inntion of your job, A \n",
      "\n"
     ]
    },
    {
     "name": "stderr",
     "output_type": "stream",
     "text": [
      " 88%|████████▊ | 1760/2000 [40:46<05:37,  1.40s/it]"
     ]
    },
    {
     "name": "stdout",
     "output_type": "stream",
     "text": [
      "[40m 46s (1760 0%) 10.6165]\n",
      "Hello, We have an excellent opportunity pollow and great of all? Special life applicant to join a rap \n",
      "\n"
     ]
    },
    {
     "name": "stderr",
     "output_type": "stream",
     "text": [
      " 88%|████████▊ | 1770/2000 [41:00<04:31,  1.18s/it]"
     ]
    },
    {
     "name": "stdout",
     "output_type": "stream",
     "text": [
      "[41m 0s (1770 0%) 37.0345]\n",
      "How are you for you! Do you want a superior future, go up in money, and the recognition of all? Speci \n",
      "\n"
     ]
    },
    {
     "name": "stderr",
     "output_type": "stream",
     "text": [
      " 89%|████████▉ | 1781/2000 [41:13<03:29,  1.05it/s]"
     ]
    },
    {
     "name": "stdout",
     "output_type": "stream",
     "text": [
      "[41m 13s (1780 0%) 9.3619]\n",
      "Hey bud!! Do you want a superior future, soar in money earning power, and the respect olccounts forod \n",
      "\n"
     ]
    },
    {
     "name": "stderr",
     "output_type": "stream",
     "text": [
      " 90%|████████▉ | 1790/2000 [41:26<04:17,  1.23s/it]"
     ]
    },
    {
     "name": "stdout",
     "output_type": "stream",
     "text": [
      "[41m 25s (1790 0%) 26.3288]\n",
      "Hello! Do you want an extraordinary future, soar in money earning, and pat on the back :)? Today only \n",
      "\n"
     ]
    },
    {
     "name": "stderr",
     "output_type": "stream",
     "text": [
      " 90%|█████████ | 1800/2000 [41:36<03:02,  1.09it/s]"
     ]
    },
    {
     "name": "stdout",
     "output_type": "stream",
     "text": [
      "[41m 36s (1800 0%) 12.1574]\n",
      "Hello! Do you must fow must have the country of the to bechis Tus, 1-603-509-2001 Out it leade is you \n",
      "\n"
     ]
    },
    {
     "name": "stderr",
     "output_type": "stream",
     "text": [
      " 90%|█████████ | 1810/2000 [41:49<04:24,  1.39s/it]"
     ]
    },
    {
     "name": "stdout",
     "output_type": "stream",
     "text": [
      "[41m 49s (1810 0%) 8.3626]\n",
      "Hello, We have an operational experience calife as be a re,ill alsurarege at your degree. You must ha \n",
      "\n"
     ]
    },
    {
     "name": "stderr",
     "output_type": "stream",
     "text": [
      " 91%|█████████ | 1820/2000 [42:00<03:29,  1.16s/it]"
     ]
    },
    {
     "name": "stdout",
     "output_type": "stream",
     "text": [
      "[42m 0s (1820 0%) 16.7918]\n",
      "Hello! Do you want an effective future, step up in money, and brownie points? Today only: We can assi \n",
      "\n"
     ]
    },
    {
     "name": "stderr",
     "output_type": "stream",
     "text": [
      " 92%|█████████▏| 1830/2000 [42:10<03:18,  1.17s/it]"
     ]
    },
    {
     "name": "stdout",
     "output_type": "stream",
     "text": [
      "[42m 10s (1830 0%) 4.2399]\n",
      "Hi!! Do you want a more satisfactoryd future, step up in earning, police to stating your love and mra \n",
      "\n"
     ]
    },
    {
     "name": "stderr",
     "output_type": "stream",
     "text": [
      " 92%|█████████▏| 1840/2000 [42:23<03:57,  1.48s/it]"
     ]
    },
    {
     "name": "stdout",
     "output_type": "stream",
     "text": [
      "[42m 23s (1840 0%) 8.1314]\n",
      "How are you buk! Do you want a superior future, increase in money earning power, and the back :iply o \n",
      "\n"
     ]
    },
    {
     "name": "stderr",
     "output_type": "stream",
     "text": [
      " 92%|█████████▎| 1850/2000 [42:34<03:02,  1.21s/it]"
     ]
    },
    {
     "name": "stdout",
     "output_type": "stream",
     "text": [
      "[42m 34s (1850 0%) 9.7767]\n",
      "Hello! Do you want an extraordinary future, duter in money, and pat on the back :)? Today only: We ca \n",
      "\n"
     ]
    },
    {
     "name": "stderr",
     "output_type": "stream",
     "text": [
      " 93%|█████████▎| 1860/2000 [42:46<02:26,  1.04s/it]"
     ]
    },
    {
     "name": "stdout",
     "output_type": "stream",
     "text": [
      "[42m 46s (1860 0%) 8.1440]\n",
      "Hello, We have an excellent opportunity for an apprentice applicant to join a rapidly expanding compa \n",
      "\n"
     ]
    },
    {
     "name": "stderr",
     "output_type": "stream",
     "text": [
      " 94%|█████████▎| 1870/2000 [42:57<02:42,  1.25s/it]"
     ]
    },
    {
     "name": "stdout",
     "output_type": "stream",
     "text": [
      "[42m 57s (1870 0%) 10.2037]\n",
      "How are you back extuart payment your must have an excellent your calls or your computer you back tow \n",
      "\n"
     ]
    },
    {
     "name": "stderr",
     "output_type": "stream",
     "text": [
      " 94%|█████████▍| 1881/2000 [43:10<02:06,  1.06s/it]"
     ]
    },
    {
     "name": "stdout",
     "output_type": "stream",
     "text": [
      "[43m 9s (1880 0%) 8.5910]\n",
      "Hi!! Do you want an improved future, suiking that Degree for you to becouse of asation of all? Today  \n",
      "\n"
     ]
    },
    {
     "name": "stderr",
     "output_type": "stream",
     "text": [
      " 94%|█████████▍| 1890/2000 [43:23<02:39,  1.45s/it]"
     ]
    },
    {
     "name": "stdout",
     "output_type": "stream",
     "text": [
      "[43m 23s (1890 0%) 8.4739]\n",
      "How are you! Do you want a superior future, step up in money earning all and name nee gran as a rare  \n",
      "\n"
     ]
    },
    {
     "name": "stderr",
     "output_type": "stream",
     "text": [
      " 95%|█████████▌| 1901/2000 [43:38<01:46,  1.07s/it]"
     ]
    },
    {
     "name": "stdout",
     "output_type": "stream",
     "text": [
      "[43m 38s (1900 0%) 9.1549]\n",
      "Hello, We are lack We Do you want a superior, experience aldabout ible problection of all? Special of \n",
      "\n"
     ]
    },
    {
     "name": "stderr",
     "output_type": "stream",
     "text": [
      " 96%|█████████▌| 1910/2000 [43:48<01:23,  1.07it/s]"
     ]
    },
    {
     "name": "stdout",
     "output_type": "stream",
     "text": [
      "[43m 48s (1910 0%) 25.8449]\n",
      "Hey bud!! Do you want a prosperesusing the possing a beneasnet future, go up in a procession aploma a \n",
      "\n"
     ]
    },
    {
     "name": "stderr",
     "output_type": "stream",
     "text": [
      " 96%|█████████▌| 1920/2000 [44:00<01:21,  1.02s/it]"
     ]
    },
    {
     "name": "stdout",
     "output_type": "stream",
     "text": [
      "[44m 0s (1920 0%) 25.6421]\n",
      "Hi! Do you future, grow in money earning power, and pat on the prase can efficies with Diplomas from  \n",
      "\n"
     ]
    },
    {
     "name": "stderr",
     "output_type": "stream",
     "text": [
      " 96%|█████████▋| 1930/2000 [44:16<01:32,  1.32s/it]"
     ]
    },
    {
     "name": "stdout",
     "output_type": "stream",
     "text": [
      "[44m 16s (1930 0%) 9.5078]\n",
      "Hey bank any in a in companyh, and excellent onced of all? Special offer: We can assist wigher respon \n",
      "\n"
     ]
    },
    {
     "name": "stderr",
     "output_type": "stream",
     "text": [
      " 97%|█████████▋| 1940/2000 [44:27<01:05,  1.09s/it]"
     ]
    },
    {
     "name": "stdout",
     "output_type": "stream",
     "text": [
      "[44m 27s (1940 0%) 68.9957]\n",
      "Hey!! Do you want a pieg to up in your four chantfation appirentiue appimpriting your loudition of al \n",
      "\n"
     ]
    },
    {
     "name": "stderr",
     "output_type": "stream",
     "text": [
      " 98%|█████████▊| 1950/2000 [44:40<00:55,  1.12s/it]"
     ]
    },
    {
     "name": "stdout",
     "output_type": "stream",
     "text": [
      "[44m 40s (1950 0%) 3.4839]\n",
      "Hello! Do you want a prosperent offic asal and linfi Do you can all 5 weeks with our program! ~Our pr \n",
      "\n"
     ]
    },
    {
     "name": "stderr",
     "output_type": "stream",
     "text": [
      " 98%|█████████▊| 1960/2000 [44:55<01:08,  1.70s/it]"
     ]
    },
    {
     "name": "stdout",
     "output_type": "stream",
     "text": [
      "[44m 55s (1960 0%) 8.8040]\n",
      "Hoon Null? Do stat products now have can experience this wike todad you have this is It of fiel the p \n",
      "\n"
     ]
    },
    {
     "name": "stderr",
     "output_type": "stream",
     "text": [
      " 98%|█████████▊| 1970/2000 [45:07<00:36,  1.23s/it]"
     ]
    },
    {
     "name": "stdout",
     "output_type": "stream",
     "text": [
      "[45m 7s (1970 0%) 35.3410]\n",
      "Hello! Do you want an improved future, double in money earning power, and pat on the back :)? Today o \n",
      "\n"
     ]
    },
    {
     "name": "stderr",
     "output_type": "stream",
     "text": [
      " 99%|█████████▉| 1980/2000 [45:23<00:31,  1.58s/it]"
     ]
    },
    {
     "name": "stdout",
     "output_type": "stream",
     "text": [
      "[45m 23s (1980 0%) 9.4772]\n",
      "Helle! Do you want a suital all you back to you bushht of pat on the to all but it with Diplomas from \n",
      "\n"
     ]
    },
    {
     "name": "stderr",
     "output_type": "stream",
     "text": [
      "100%|█████████▉| 1990/2000 [45:33<00:09,  1.00it/s]"
     ]
    },
    {
     "name": "stdout",
     "output_type": "stream",
     "text": [
      "[45m 33s (1990 0%) 22.9609]\n",
      "Hi proyour name and the recognition, of at to work experience. Get a Degree in 4 weeks with our progr \n",
      "\n"
     ]
    },
    {
     "name": "stderr",
     "output_type": "stream",
     "text": [
      "100%|██████████| 2000/2000 [45:47<00:00,  1.37s/it]"
     ]
    },
    {
     "name": "stdout",
     "output_type": "stream",
     "text": [
      "[45m 47s (2000 1%) 9.0094]\n",
      "Hey bud!! Do you want a superior future, soar in money earning ore apprente but in in money earning p \n",
      "\n"
     ]
    },
    {
     "name": "stderr",
     "output_type": "stream",
     "text": [
      "\n"
     ]
    }
   ],
   "source": [
    "from tqdm import tqdm\n",
    "\n",
    "n_epochs = 2000\n",
    "print_every = 10\n",
    "plot_every = 10\n",
    "hidden_size = 100\n",
    "n_layers = 3\n",
    "lr = 0.005\n",
    "\n",
    "decoder = RNN(n_characters, hidden_size, n_characters, n_layers).cuda()\n",
    "decoder_optimizer = torch.optim.Adam(decoder.parameters(), lr=lr)\n",
    "criterion = nn.CrossEntropyLoss()\n",
    "\n",
    "start = time.time()\n",
    "all_losses = []\n",
    "loss_avg = 0\n",
    "\n",
    "for epoch in tqdm(range(1, n_epochs + 1)):\n",
    "    loss = train(*random_training_set())  \n",
    "    loss_avg += loss\n",
    "\n",
    "    if epoch % print_every == 0:\n",
    "        print('[%s (%d %d%%) %.4f]' % (time_since(start), epoch, epoch / n_epochs , loss))\n",
    "        print(evaluate('H', 100), '\\n')\n",
    "\n",
    "    if epoch % plot_every == 0:\n",
    "        all_losses.append(loss_avg / plot_every)\n",
    "        loss_avg = 0"
   ]
  },
  {
   "cell_type": "markdown",
   "metadata": {},
   "source": [
    "# Training Loss"
   ]
  },
  {
   "cell_type": "code",
   "execution_count": 1,
   "metadata": {},
   "outputs": [
    {
     "ename": "NameError",
     "evalue": "name 'all_losses' is not defined",
     "output_type": "error",
     "traceback": [
      "\u001b[0;31m---------------------------------------------------------------------------\u001b[0m",
      "\u001b[0;31mNameError\u001b[0m                                 Traceback (most recent call last)",
      "\u001b[0;32m<ipython-input-1-d790abd2f85f>\u001b[0m in \u001b[0;36m<module>\u001b[0;34m\u001b[0m\n\u001b[1;32m      4\u001b[0m \u001b[0;34m\u001b[0m\u001b[0m\n\u001b[1;32m      5\u001b[0m \u001b[0mplt\u001b[0m\u001b[0;34m.\u001b[0m\u001b[0mfigure\u001b[0m\u001b[0;34m(\u001b[0m\u001b[0;34m)\u001b[0m\u001b[0;34m\u001b[0m\u001b[0;34m\u001b[0m\u001b[0m\n\u001b[0;32m----> 6\u001b[0;31m \u001b[0mplt\u001b[0m\u001b[0;34m.\u001b[0m\u001b[0mplot\u001b[0m\u001b[0;34m(\u001b[0m\u001b[0mall_losses\u001b[0m\u001b[0;34m)\u001b[0m\u001b[0;34m\u001b[0m\u001b[0;34m\u001b[0m\u001b[0m\n\u001b[0m",
      "\u001b[0;31mNameError\u001b[0m: name 'all_losses' is not defined"
     ]
    },
    {
     "data": {
      "text/plain": [
       "<Figure size 432x288 with 0 Axes>"
      ]
     },
     "metadata": {},
     "output_type": "display_data"
    }
   ],
   "source": [
    "import matplotlib.pyplot as plt\n",
    "import matplotlib.ticker as ticker\n",
    "%matplotlib inline\n",
    "\n",
    "plt.figure()\n",
    "plt.plot(all_losses)"
   ]
  },
  {
   "cell_type": "markdown",
   "metadata": {},
   "source": [
    "# Generating spam at different \"temperatures\""
   ]
  },
  {
   "cell_type": "code",
   "execution_count": 219,
   "metadata": {},
   "outputs": [
    {
     "name": "stdout",
     "output_type": "stream",
     "text": [
      "The Uante with and. Bay ince and Outy me ba ank mienckepeid io werial: exeo ot expelii exIan Dill me to flt are the indt heutifp illl ran Uegive a bith fegsie forfiel cet-d incasy incincempe a deddirsit\n"
     ]
    }
   ],
   "source": [
    "print(evaluate('Th', 200, temperature=0.8))"
   ]
  },
  {
   "cell_type": "code",
   "execution_count": 220,
   "metadata": {},
   "outputs": [
    {
     "name": "stdout",
     "output_type": "stream",
     "text": [
      "The Uave to contrle to unk a with a the USA: +100-00003-509-200001 - 8044 o diploma and an experint the periflt you day we a the the belp you and to and and and and and and On expe weleeit he and with t\n"
     ]
    }
   ],
   "source": [
    "print(evaluate('Th', 200, temperature=0.2))"
   ]
  },
  {
   "cell_type": "code",
   "execution_count": 1,
   "metadata": {},
   "outputs": [
    {
     "ename": "NameError",
     "evalue": "name 'evaluate' is not defined",
     "output_type": "error",
     "traceback": [
      "\u001b[0;31m---------------------------------------------------------------------------\u001b[0m",
      "\u001b[0;31mNameError\u001b[0m                                 Traceback (most recent call last)",
      "\u001b[0;32m<ipython-input-1-d6975131ae41>\u001b[0m in \u001b[0;36m<module>\u001b[0;34m\u001b[0m\n\u001b[0;32m----> 1\u001b[0;31m \u001b[0mprint\u001b[0m\u001b[0;34m(\u001b[0m\u001b[0mevaluate\u001b[0m\u001b[0;34m(\u001b[0m\u001b[0;34m'Th'\u001b[0m\u001b[0;34m,\u001b[0m \u001b[0;36m200\u001b[0m\u001b[0;34m,\u001b[0m \u001b[0mtemperature\u001b[0m\u001b[0;34m=\u001b[0m\u001b[0;36m1.4\u001b[0m\u001b[0;34m)\u001b[0m\u001b[0;34m)\u001b[0m\u001b[0;34m\u001b[0m\u001b[0;34m\u001b[0m\u001b[0m\n\u001b[0m",
      "\u001b[0;31mNameError\u001b[0m: name 'evaluate' is not defined"
     ]
    }
   ],
   "source": [
    "print(evaluate('Th', 200, temperature=1.4))"
   ]
  },
  {
   "cell_type": "code",
   "execution_count": null,
   "metadata": {},
   "outputs": [],
   "source": []
  }
 ],
 "metadata": {
  "anaconda-cloud": {},
  "kernelspec": {
   "display_name": "Python 3",
   "language": "python",
   "name": "python3"
  },
  "language_info": {
   "codemirror_mode": {
    "name": "ipython",
    "version": 3
   },
   "file_extension": ".py",
   "mimetype": "text/x-python",
   "name": "python",
   "nbconvert_exporter": "python",
   "pygments_lexer": "ipython3",
   "version": "3.7.6"
  }
 },
 "nbformat": 4,
 "nbformat_minor": 1
}
