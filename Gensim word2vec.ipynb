{
 "cells": [
  {
   "cell_type": "code",
   "execution_count": 8,
   "metadata": {},
   "outputs": [],
   "source": [
    "from gensim.models import Word2Vec\n",
    "from gensim.test.utils import common_texts, get_tmpfile\n",
    "import json\n",
    "from gensim.parsing.preprocessing import preprocess_documents\n",
    "\n",
    "path = get_tmpfile(\"word2vec.model\")\n",
    "job_texts = json.load(open('./data/final/jobs.json', 'r'))\n",
    "job_texts = preprocess_documents(job_texts)"
   ]
  },
  {
   "cell_type": "code",
   "execution_count": 9,
   "metadata": {},
   "outputs": [],
   "source": [
    "model = Word2Vec(job_texts, size=100, window=5, min_count=1, workers=4)"
   ]
  },
  {
   "cell_type": "code",
   "execution_count": 14,
   "metadata": {},
   "outputs": [],
   "source": [
    "test_text = job_texts[0]\n",
    "vectors = list(map(lambda x: model.wv[x], test_text))"
   ]
  },
  {
   "cell_type": "code",
   "execution_count": 17,
   "metadata": {},
   "outputs": [
    {
     "data": {
      "text/plain": [
       "100"
      ]
     },
     "execution_count": 17,
     "metadata": {},
     "output_type": "execute_result"
    }
   ],
   "source": [
    "len(vectors[5]"
   ]
  },
  {
   "cell_type": "code",
   "execution_count": 18,
   "metadata": {},
   "outputs": [],
   "source": [
    "model.save(\"word2vec.model\")"
   ]
  },
  {
   "cell_type": "code",
   "execution_count": 21,
   "metadata": {},
   "outputs": [
    {
     "ename": "TypeError",
     "evalue": "cannot unpack non-iterable numpy.float32 object",
     "output_type": "error",
     "traceback": [
      "\u001b[0;31m---------------------------------------------------------------------------\u001b[0m",
      "\u001b[0;31mTypeError\u001b[0m                                 Traceback (most recent call last)",
      "\u001b[0;32m<ipython-input-21-e212d377fa1c>\u001b[0m in \u001b[0;36m<module>\u001b[0;34m\u001b[0m\n\u001b[0;32m----> 1\u001b[0;31m \u001b[0mmodel\u001b[0m\u001b[0;34m.\u001b[0m\u001b[0mwv\u001b[0m\u001b[0;34m.\u001b[0m\u001b[0mmost_similar\u001b[0m\u001b[0;34m(\u001b[0m\u001b[0mvectors\u001b[0m\u001b[0;34m[\u001b[0m\u001b[0;36m0\u001b[0m\u001b[0;34m]\u001b[0m\u001b[0;34m)\u001b[0m\u001b[0;34m\u001b[0m\u001b[0;34m\u001b[0m\u001b[0m\n\u001b[0m",
      "\u001b[0;32m/usr/local/lib/python3.8/dist-packages/gensim/models/keyedvectors.py\u001b[0m in \u001b[0;36mmost_similar\u001b[0;34m(self, positive, negative, topn, restrict_vocab, indexer)\u001b[0m\n\u001b[1;32m    547\u001b[0m         \u001b[0;31m# compute the weighted average of all words\u001b[0m\u001b[0;34m\u001b[0m\u001b[0;34m\u001b[0m\u001b[0;34m\u001b[0m\u001b[0m\n\u001b[1;32m    548\u001b[0m         \u001b[0mall_words\u001b[0m\u001b[0;34m,\u001b[0m \u001b[0mmean\u001b[0m \u001b[0;34m=\u001b[0m \u001b[0mset\u001b[0m\u001b[0;34m(\u001b[0m\u001b[0;34m)\u001b[0m\u001b[0;34m,\u001b[0m \u001b[0;34m[\u001b[0m\u001b[0;34m]\u001b[0m\u001b[0;34m\u001b[0m\u001b[0;34m\u001b[0m\u001b[0m\n\u001b[0;32m--> 549\u001b[0;31m         \u001b[0;32mfor\u001b[0m \u001b[0mword\u001b[0m\u001b[0;34m,\u001b[0m \u001b[0mweight\u001b[0m \u001b[0;32min\u001b[0m \u001b[0mpositive\u001b[0m \u001b[0;34m+\u001b[0m \u001b[0mnegative\u001b[0m\u001b[0;34m:\u001b[0m\u001b[0;34m\u001b[0m\u001b[0;34m\u001b[0m\u001b[0m\n\u001b[0m\u001b[1;32m    550\u001b[0m             \u001b[0;32mif\u001b[0m \u001b[0misinstance\u001b[0m\u001b[0;34m(\u001b[0m\u001b[0mword\u001b[0m\u001b[0;34m,\u001b[0m \u001b[0mndarray\u001b[0m\u001b[0;34m)\u001b[0m\u001b[0;34m:\u001b[0m\u001b[0;34m\u001b[0m\u001b[0;34m\u001b[0m\u001b[0m\n\u001b[1;32m    551\u001b[0m                 \u001b[0mmean\u001b[0m\u001b[0;34m.\u001b[0m\u001b[0mappend\u001b[0m\u001b[0;34m(\u001b[0m\u001b[0mweight\u001b[0m \u001b[0;34m*\u001b[0m \u001b[0mword\u001b[0m\u001b[0;34m)\u001b[0m\u001b[0;34m\u001b[0m\u001b[0;34m\u001b[0m\u001b[0m\n",
      "\u001b[0;31mTypeError\u001b[0m: cannot unpack non-iterable numpy.float32 object"
     ]
    }
   ],
   "source": [
    "model.wv.most_similar(vectors[0])"
   ]
  },
  {
   "cell_type": "code",
   "execution_count": 20,
   "metadata": {},
   "outputs": [
    {
     "data": {
      "text/plain": [
       "array([-0.7304232 ,  0.19612044,  0.92002285, -0.11172968,  0.98880327,\n",
       "       -0.32300565, -0.7649982 , -0.21409005, -2.1803973 , -0.2330147 ,\n",
       "       -1.9736768 ,  0.2697791 ,  0.62939113, -0.01977196,  0.625636  ,\n",
       "       -0.54969037,  1.0371788 ,  0.04494958,  1.7254237 , -0.53548807,\n",
       "       -0.7404606 ,  0.02589464,  1.2660213 ,  2.4440613 ,  0.33295298,\n",
       "       -0.7645274 , -1.0453076 , -0.3095146 , -0.48243436,  0.82412845,\n",
       "        0.8551301 , -1.3547728 , -0.45349917, -1.3915691 ,  0.8152827 ,\n",
       "        0.11548156,  0.32609493, -1.0599602 ,  0.42152476,  0.85823005,\n",
       "        0.76996773, -0.754073  , -0.3060641 ,  1.1161501 ,  0.5619146 ,\n",
       "        0.05145977,  0.37013903, -1.1151251 , -0.75381196,  1.4578123 ,\n",
       "       -1.3680246 ,  1.432716  ,  0.21504265,  0.82030267,  0.11612281,\n",
       "       -1.4084257 ,  1.1109533 ,  0.90773267,  1.1052195 , -2.1591775 ,\n",
       "        1.4041731 , -1.6621208 , -1.66014   , -0.6792017 ,  1.1299571 ,\n",
       "        1.4033724 , -0.40112707,  0.5723509 ,  1.3943653 ,  0.2685364 ,\n",
       "       -1.6660448 ,  1.5508195 , -0.43031117,  1.3719348 , -1.0164682 ,\n",
       "       -0.851781  ,  1.0722558 , -0.9507044 ,  0.98059314,  0.26666155,\n",
       "        2.0047877 , -1.1997038 ,  0.5776237 , -1.6691773 ,  1.5261785 ,\n",
       "        0.6978855 ,  0.3924266 ,  1.9877096 ,  0.01637021, -0.16807939,\n",
       "        0.10289306,  0.1742187 , -1.4667823 , -0.4820078 , -0.3891381 ,\n",
       "        0.4485732 , -0.6448832 , -1.8141699 , -0.9512837 , -0.40252146],\n",
       "      dtype=float32)"
      ]
     },
     "execution_count": 20,
     "metadata": {},
     "output_type": "execute_result"
    }
   ],
   "source": [
    "vectors[0]"
   ]
  },
  {
   "cell_type": "code",
   "execution_count": 26,
   "metadata": {},
   "outputs": [
    {
     "data": {
      "text/plain": [
       "[('want', 1.0),\n",
       " ('improv', 0.5710748434066772),\n",
       " ('hello', 0.5179038643836975),\n",
       " ('baad', 0.5130408406257629),\n",
       " ('dai', 0.49791187047958374),\n",
       " ('time', 0.4951125979423523),\n",
       " ('jean', 0.4865950345993042),\n",
       " ('area', 0.4851264953613281),\n",
       " ('contact', 0.48037654161453247),\n",
       " ('repeatedli', 0.4790414869785309)]"
      ]
     },
     "execution_count": 26,
     "metadata": {},
     "output_type": "execute_result"
    }
   ],
   "source": [
    "model.wv.similar_by_vector(vectors[1])"
   ]
  },
  {
   "cell_type": "code",
   "execution_count": null,
   "metadata": {},
   "outputs": [],
   "source": []
  }
 ],
 "metadata": {
  "kernelspec": {
   "display_name": "Python 3",
   "language": "python",
   "name": "python3"
  },
  "language_info": {
   "codemirror_mode": {
    "name": "ipython",
    "version": 3
   },
   "file_extension": ".py",
   "mimetype": "text/x-python",
   "name": "python",
   "nbconvert_exporter": "python",
   "pygments_lexer": "ipython3",
   "version": "3.8.2"
  }
 },
 "nbformat": 4,
 "nbformat_minor": 4
}
